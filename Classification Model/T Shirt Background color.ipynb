{
 "cells": [
  {
   "cell_type": "markdown",
   "metadata": {},
   "source": [
    "# Dogs breeds\n",
    "\n",
    "https://youtu.be/JNxcznsrRb8?t=1h31m8s"
   ]
  },
  {
   "cell_type": "code",
   "execution_count": 1,
   "metadata": {},
   "outputs": [],
   "source": [
    "%reload_ext autoreload\n",
    "%autoreload 2\n",
    "%matplotlib inline"
   ]
  },
  {
   "cell_type": "code",
   "execution_count": 2,
   "metadata": {},
   "outputs": [],
   "source": [
    "from fastai.imports import *\n",
    "from fastai.torch_imports import *\n",
    "from fastai.transforms import *\n",
    "from fastai.conv_learner import *\n",
    "from fastai.model import *\n",
    "from fastai.dataset import *\n",
    "from fastai.sgdr import *\n",
    "from fastai.plots import *"
   ]
  },
  {
   "cell_type": "code",
   "execution_count": 3,
   "metadata": {},
   "outputs": [],
   "source": [
    "torch.cuda.set_device(0)"
   ]
  },
  {
   "cell_type": "code",
   "execution_count": 4,
   "metadata": {},
   "outputs": [],
   "source": [
    "PATH = \"/home/embsysa/fastai/pytorch_classifiers-master/data/\"\n",
    "sz = 224\n",
    "arch = resnet34\n",
    "bs = 24"
   ]
  },
  {
   "cell_type": "markdown",
   "metadata": {},
   "source": [
    "## Initial exploration"
   ]
  },
  {
   "cell_type": "code",
   "execution_count": 5,
   "metadata": {},
   "outputs": [],
   "source": [
    "import os\n",
    "data_path = \"/home/embsysa/fastai/pytorch_classifiers-master/data\"\n",
    "os.chdir(data_path)"
   ]
  },
  {
   "cell_type": "code",
   "execution_count": 6,
   "metadata": {},
   "outputs": [
    {
     "name": "stdout",
     "output_type": "stream",
     "text": [
      " all_mask.zip\t\t\t\t  Major_Background_labels.csv\r\n",
      " Background_color_allmultilabel.csv\t  Major_Graphics_labels.csv\r\n",
      " Background_color_allmultilabel.csv.csv   Major_Graphics_labels.csv.csv\r\n",
      " Backup\t\t\t\t\t  Major_Graphics_labels_final.csv\r\n",
      "'change file type.ipynb'\t\t  old_Major_Background_labels.csv\r\n",
      " Emotion_labels.csv\t\t\t  test\r\n",
      " Emotion_labels.csv.csv\t\t\t  tmp\r\n",
      "'Final data Folders'\t\t\t  train\r\n",
      "'Final data Folders.zip'\t\t  train_with_mask\r\n"
     ]
    }
   ],
   "source": [
    "!ls {PATH}\n",
    "\n",
    "label_csv_name = 'Major_Graphics_labels.csv'\n",
    "label_df = pd.read_csv(label_csv_name)\n"
   ]
  },
  {
   "cell_type": "code",
   "execution_count": 7,
   "metadata": {},
   "outputs": [],
   "source": [
    "images = [each.split(\".jpg\")[0] for each in os.listdir(data_path+\"/train\")]"
   ]
  },
  {
   "cell_type": "code",
   "execution_count": 8,
   "metadata": {},
   "outputs": [
    {
     "data": {
      "text/html": [
       "<div>\n",
       "<style scoped>\n",
       "    .dataframe tbody tr th:only-of-type {\n",
       "        vertical-align: middle;\n",
       "    }\n",
       "\n",
       "    .dataframe tbody tr th {\n",
       "        vertical-align: top;\n",
       "    }\n",
       "\n",
       "    .dataframe thead th {\n",
       "        text-align: right;\n",
       "    }\n",
       "</style>\n",
       "<table border=\"1\" class=\"dataframe\">\n",
       "  <thead>\n",
       "    <tr style=\"text-align: right;\">\n",
       "      <th></th>\n",
       "      <th>Image_index</th>\n",
       "      <th>Major_Graphics</th>\n",
       "    </tr>\n",
       "  </thead>\n",
       "  <tbody>\n",
       "    <tr>\n",
       "      <th>0</th>\n",
       "      <td>28</td>\n",
       "      <td>99</td>\n",
       "    </tr>\n",
       "    <tr>\n",
       "      <th>1</th>\n",
       "      <td>40</td>\n",
       "      <td>1</td>\n",
       "    </tr>\n",
       "    <tr>\n",
       "      <th>2</th>\n",
       "      <td>698</td>\n",
       "      <td>2</td>\n",
       "    </tr>\n",
       "    <tr>\n",
       "      <th>3</th>\n",
       "      <td>769</td>\n",
       "      <td>1</td>\n",
       "    </tr>\n",
       "    <tr>\n",
       "      <th>4</th>\n",
       "      <td>786</td>\n",
       "      <td>5</td>\n",
       "    </tr>\n",
       "  </tbody>\n",
       "</table>\n",
       "</div>"
      ],
      "text/plain": [
       "  Image_index  Major_Graphics\n",
       "0          28              99\n",
       "1          40               1\n",
       "2         698               2\n",
       "3         769               1\n",
       "4         786               5"
      ]
     },
     "execution_count": 8,
     "metadata": {},
     "output_type": "execute_result"
    }
   ],
   "source": [
    "label_df.head()"
   ]
  },
  {
   "cell_type": "code",
   "execution_count": 9,
   "metadata": {},
   "outputs": [],
   "source": [
    "label_df = label_df[label_df.Image_index.isin(images)]\n",
    "label_df.to_csv(label_csv_name+'.csv', index=False)"
   ]
  },
  {
   "cell_type": "code",
   "execution_count": 10,
   "metadata": {},
   "outputs": [
    {
     "data": {
      "text/plain": [
       "'Major_Graphics_labels.csv'"
      ]
     },
     "execution_count": 10,
     "metadata": {},
     "output_type": "execute_result"
    }
   ],
   "source": [
    "label_csv_name"
   ]
  },
  {
   "cell_type": "code",
   "execution_count": 11,
   "metadata": {},
   "outputs": [],
   "source": [
    "label_csv = f'{PATH}'+label_csv_name+'.csv'\n",
    "n = len(label_df)# header is not counted (-1)\n",
    "val_idxs = get_cv_idxs(n) # random 20% data for validation set"
   ]
  },
  {
   "cell_type": "code",
   "execution_count": 12,
   "metadata": {},
   "outputs": [
    {
     "data": {
      "text/plain": [
       "(6324, 2)"
      ]
     },
     "execution_count": 12,
     "metadata": {},
     "output_type": "execute_result"
    }
   ],
   "source": [
    "label_df.columns = label_df.columns.str.replace(\"-\",\"_\")\n",
    "label_df.head()\n",
    "#label_df.columns = ['id', 'color']\n",
    "\n",
    "label_df.shape"
   ]
  },
  {
   "cell_type": "code",
   "execution_count": 13,
   "metadata": {},
   "outputs": [
    {
     "data": {
      "text/plain": [
       "6321"
      ]
     },
     "execution_count": 13,
     "metadata": {},
     "output_type": "execute_result"
    }
   ],
   "source": [
    "#label_df.pivot_table(index=\"color\", aggfunc=len).sort_values('id', ascending=False)\n",
    "import numpy as np\n",
    "np.max(val_idxs)"
   ]
  },
  {
   "cell_type": "code",
   "execution_count": 14,
   "metadata": {},
   "outputs": [
    {
     "name": "stdout",
     "output_type": "stream",
     "text": [
      "/home/embsysa/fastai/pytorch_classifiers-master/data/train/28.jpg\n"
     ]
    },
    {
     "data": {
      "text/plain": [
       "(512, 512)"
      ]
     },
     "execution_count": 14,
     "metadata": {},
     "output_type": "execute_result"
    }
   ],
   "source": [
    "tfms = tfms_from_model(arch, sz, aug_tfms=transforms_top_down, max_zoom=1.2)\n",
    "data = ImageClassifierData.from_csv(PATH, 'train', label_csv, test_name='test', # we need to specify where the test set is if you want to submit to Kaggle competitions\n",
    "                                   val_idxs=val_idxs, suffix='.jpg', tfms=tfms, bs=bs)\n",
    "\n",
    "fn = PATH + data.trn_ds.fnames[0];\n",
    "print(fn)\n",
    "\n",
    "data.trn_ds.fnames[0]\n",
    "\n",
    "img = PIL.Image.open(fn); img\n",
    "\n",
    "img.size"
   ]
  },
  {
   "cell_type": "code",
   "execution_count": 15,
   "metadata": {},
   "outputs": [
    {
     "data": {
      "text/plain": [
       "1264"
      ]
     },
     "execution_count": 15,
     "metadata": {},
     "output_type": "execute_result"
    }
   ],
   "source": [
    "len(data.val_y)"
   ]
  },
  {
   "cell_type": "code",
   "execution_count": 16,
   "metadata": {},
   "outputs": [],
   "source": [
    "size_d = {k: PIL.Image.open(PATH + k).size for k in data.trn_ds.fnames}"
   ]
  },
  {
   "cell_type": "code",
   "execution_count": 17,
   "metadata": {},
   "outputs": [],
   "source": [
    "row_sz, col_sz = list(zip(*size_d.values()))"
   ]
  },
  {
   "cell_type": "code",
   "execution_count": 18,
   "metadata": {},
   "outputs": [],
   "source": [
    "row_sz = np.array(row_sz); col_sz = np.array(col_sz)"
   ]
  },
  {
   "cell_type": "markdown",
   "metadata": {},
   "source": [
    "## Initial model"
   ]
  },
  {
   "cell_type": "code",
   "execution_count": 19,
   "metadata": {},
   "outputs": [],
   "source": [
    "def get_data(sz, bs): # sz: image size, bs: batch size\n",
    "    tfms = tfms_from_model(arch, sz, aug_tfms=transforms_side_on, max_zoom=1.2)\n",
    "    data = ImageClassifierData.from_csv(PATH, 'train', label_csv, test_name='test',\n",
    "                                       val_idxs=val_idxs, suffix='.jpg', tfms=tfms,bs = bs)\n",
    "    \n",
    "    # http://forums.fast.ai/t/how-to-train-on-the-full-dataset-using-imageclassifierdata-from-csv/7761/13\n",
    "    # http://forums.fast.ai/t/how-to-train-on-the-full-dataset-using-imageclassifierdata-from-csv/7761/37\n",
    "    return data if sz > 300 else data.resize(256, 'tmp') # Reading the jpgs and resizing is slow for big images, so resizing them all to 340 first saves time\n",
    "\n",
    "#Source:   \n",
    "#    def resize(self, targ, new_path):\n",
    "#        new_ds = []\n",
    "#        dls = [self.trn_dl,self.val_dl,self.fix_dl,self.aug_dl]\n",
    "#        if self.test_dl: dls += [self.test_dl, self.test_aug_dl]\n",
    "#        else: dls += [None,None]\n",
    "#        t = tqdm_notebook(dls)\n",
    "#        for dl in t: new_ds.append(self.resized(dl, targ, new_path))\n",
    "#        t.close()\n",
    "#        return self.__class__(new_ds[0].path, new_ds, self.bs, self.num_workers, self.classes)\n",
    "#File:      ~/fastai/courses/dl1/fastai/dataset.py"
   ]
  },
  {
   "cell_type": "markdown",
   "metadata": {},
   "source": [
    "### Precompute"
   ]
  },
  {
   "cell_type": "code",
   "execution_count": 20,
   "metadata": {
    "scrolled": true
   },
   "outputs": [
    {
     "data": {
      "application/vnd.jupyter.widget-view+json": {
       "model_id": "3a23979d4c6e4cc9b596bbccb2d41665",
       "version_major": 2,
       "version_minor": 0
      },
      "text/plain": [
       "HBox(children=(IntProgress(value=0, max=6), HTML(value='')))"
      ]
     },
     "metadata": {},
     "output_type": "display_data"
    },
    {
     "name": "stdout",
     "output_type": "stream",
     "text": [
      "\n"
     ]
    }
   ],
   "source": [
    "data = get_data(sz, bs)"
   ]
  },
  {
   "cell_type": "code",
   "execution_count": 21,
   "metadata": {},
   "outputs": [],
   "source": [
    "learn = ConvLearner.pretrained(arch, data, precompute=False)"
   ]
  },
  {
   "cell_type": "code",
   "execution_count": 22,
   "metadata": {},
   "outputs": [],
   "source": [
    "learn.unfreeze()\n",
    "\n",
    "# set requires_grads to be True for all layers, so they can be updated\n",
    "\n",
    "learning_rate = [0.01, 0.01, 0.1]\n",
    "# learning rate is set so that deepest third of layers have a rate of 0.001, # middle layers have a rate of 0.01, and final layers 0.1.\n",
    "\n",
    "\n",
    "learn.precompute = False"
   ]
  },
  {
   "cell_type": "code",
   "execution_count": null,
   "metadata": {},
   "outputs": [
    {
     "data": {
      "application/vnd.jupyter.widget-view+json": {
       "model_id": "2c5cba22dc6a4ca69a576b87e8303998",
       "version_major": 2,
       "version_minor": 0
      },
      "text/plain": [
       "HBox(children=(IntProgress(value=0, description='Epoch', max=10, style=ProgressStyle(description_width='initia…"
      ]
     },
     "metadata": {},
     "output_type": "display_data"
    },
    {
     "name": "stdout",
     "output_type": "stream",
     "text": [
      "epoch      trn_loss   val_loss   accuracy                   \n",
      "    0      2.199656   2.823254   0.326741  \n",
      "Validation:  13%|█▎        | 7/53 [00:00<00:04, 10.66it/s]  "
     ]
    }
   ],
   "source": [
    "learn.fit(1e-2, 10)"
   ]
  },
  {
   "cell_type": "markdown",
   "metadata": {},
   "source": [
    "### Augment"
   ]
  },
  {
   "cell_type": "code",
   "execution_count": null,
   "metadata": {},
   "outputs": [],
   "source": [
    "from sklearn import metrics"
   ]
  },
  {
   "cell_type": "code",
   "execution_count": null,
   "metadata": {},
   "outputs": [],
   "source": [
    "data = get_data(sz, bs)"
   ]
  },
  {
   "cell_type": "code",
   "execution_count": null,
   "metadata": {},
   "outputs": [],
   "source": [
    "learn = ConvLearner.pretrained(arch, data, precompute=True, ps=0.5)"
   ]
  },
  {
   "cell_type": "code",
   "execution_count": null,
   "metadata": {},
   "outputs": [],
   "source": [
    "learn.fit(1e-2, 2)"
   ]
  },
  {
   "cell_type": "code",
   "execution_count": null,
   "metadata": {},
   "outputs": [],
   "source": [
    "learn.precompute = False"
   ]
  },
  {
   "cell_type": "code",
   "execution_count": null,
   "metadata": {},
   "outputs": [],
   "source": [
    "learn.fit(1e-2, 5, cycle_len=1)"
   ]
  },
  {
   "cell_type": "code",
   "execution_count": null,
   "metadata": {},
   "outputs": [],
   "source": [
    "learn.save('224_pre')"
   ]
  },
  {
   "cell_type": "code",
   "execution_count": null,
   "metadata": {},
   "outputs": [],
   "source": [
    "learn.load('224_pre')"
   ]
  },
  {
   "cell_type": "markdown",
   "metadata": {},
   "source": [
    "## Increase size"
   ]
  },
  {
   "cell_type": "code",
   "execution_count": null,
   "metadata": {},
   "outputs": [],
   "source": [
    "# Starting training on small images for a few epochs, then switching to bigger images, and continuing training is an amazingly effective way to avoid overfitting.\n",
    "\n",
    "# http://forums.fast.ai/t/planet-classification-challenge/7824/96\n",
    "# set_data doesn’t change the model at all. It just gives it new data to train with.\n",
    "learn.set_data(get_data(299, bs)) \n",
    "learn.freeze()\n",
    "\n",
    "#Source:   \n",
    "#    def set_data(self, data, precompute=False):\n",
    "#        super().set_data(data)\n",
    "#        if precompute:\n",
    "#            self.unfreeze()\n",
    "#            self.save_fc1()\n",
    "#            self.freeze()\n",
    "#            self.precompute = True\n",
    "#        else:\n",
    "#            self.freeze()\n",
    "#File:      ~/fastai/courses/dl1/fastai/conv_learner.py"
   ]
  },
  {
   "cell_type": "code",
   "execution_count": 23,
   "metadata": {},
   "outputs": [
    {
     "data": {
      "text/plain": [
       "OrderedDict([('Conv2d-1',\n",
       "              OrderedDict([('input_shape', [-1, 3, 224, 224]),\n",
       "                           ('output_shape', [-1, 64, 112, 112]),\n",
       "                           ('trainable', True),\n",
       "                           ('nb_params', tensor(9408))])),\n",
       "             ('BatchNorm2d-2',\n",
       "              OrderedDict([('input_shape', [-1, 64, 112, 112]),\n",
       "                           ('output_shape', [-1, 64, 112, 112]),\n",
       "                           ('trainable', True),\n",
       "                           ('nb_params', tensor(128))])),\n",
       "             ('ReLU-3',\n",
       "              OrderedDict([('input_shape', [-1, 64, 112, 112]),\n",
       "                           ('output_shape', [-1, 64, 112, 112]),\n",
       "                           ('nb_params', 0)])),\n",
       "             ('MaxPool2d-4',\n",
       "              OrderedDict([('input_shape', [-1, 64, 112, 112]),\n",
       "                           ('output_shape', [-1, 64, 56, 56]),\n",
       "                           ('nb_params', 0)])),\n",
       "             ('Conv2d-5',\n",
       "              OrderedDict([('input_shape', [-1, 64, 56, 56]),\n",
       "                           ('output_shape', [-1, 128, 56, 56]),\n",
       "                           ('trainable', True),\n",
       "                           ('nb_params', tensor(8192))])),\n",
       "             ('BatchNorm2d-6',\n",
       "              OrderedDict([('input_shape', [-1, 128, 56, 56]),\n",
       "                           ('output_shape', [-1, 128, 56, 56]),\n",
       "                           ('trainable', True),\n",
       "                           ('nb_params', tensor(256))])),\n",
       "             ('ReLU-7',\n",
       "              OrderedDict([('input_shape', [-1, 128, 56, 56]),\n",
       "                           ('output_shape', [-1, 128, 56, 56]),\n",
       "                           ('nb_params', 0)])),\n",
       "             ('Conv2d-8',\n",
       "              OrderedDict([('input_shape', [-1, 128, 56, 56]),\n",
       "                           ('output_shape', [-1, 128, 56, 56]),\n",
       "                           ('trainable', True),\n",
       "                           ('nb_params', tensor(4608))])),\n",
       "             ('BatchNorm2d-9',\n",
       "              OrderedDict([('input_shape', [-1, 128, 56, 56]),\n",
       "                           ('output_shape', [-1, 128, 56, 56]),\n",
       "                           ('trainable', True),\n",
       "                           ('nb_params', tensor(256))])),\n",
       "             ('ReLU-10',\n",
       "              OrderedDict([('input_shape', [-1, 128, 56, 56]),\n",
       "                           ('output_shape', [-1, 128, 56, 56]),\n",
       "                           ('nb_params', 0)])),\n",
       "             ('Conv2d-11',\n",
       "              OrderedDict([('input_shape', [-1, 128, 56, 56]),\n",
       "                           ('output_shape', [-1, 256, 56, 56]),\n",
       "                           ('trainable', True),\n",
       "                           ('nb_params', tensor(32768))])),\n",
       "             ('BatchNorm2d-12',\n",
       "              OrderedDict([('input_shape', [-1, 256, 56, 56]),\n",
       "                           ('output_shape', [-1, 256, 56, 56]),\n",
       "                           ('trainable', True),\n",
       "                           ('nb_params', tensor(512))])),\n",
       "             ('Conv2d-13',\n",
       "              OrderedDict([('input_shape', [-1, 64, 56, 56]),\n",
       "                           ('output_shape', [-1, 256, 56, 56]),\n",
       "                           ('trainable', True),\n",
       "                           ('nb_params', tensor(16384))])),\n",
       "             ('BatchNorm2d-14',\n",
       "              OrderedDict([('input_shape', [-1, 256, 56, 56]),\n",
       "                           ('output_shape', [-1, 256, 56, 56]),\n",
       "                           ('trainable', True),\n",
       "                           ('nb_params', tensor(512))])),\n",
       "             ('ReLU-15',\n",
       "              OrderedDict([('input_shape', [-1, 256, 56, 56]),\n",
       "                           ('output_shape', [-1, 256, 56, 56]),\n",
       "                           ('nb_params', 0)])),\n",
       "             ('Conv2d-16',\n",
       "              OrderedDict([('input_shape', [-1, 256, 56, 56]),\n",
       "                           ('output_shape', [-1, 128, 56, 56]),\n",
       "                           ('trainable', True),\n",
       "                           ('nb_params', tensor(32768))])),\n",
       "             ('BatchNorm2d-17',\n",
       "              OrderedDict([('input_shape', [-1, 128, 56, 56]),\n",
       "                           ('output_shape', [-1, 128, 56, 56]),\n",
       "                           ('trainable', True),\n",
       "                           ('nb_params', tensor(256))])),\n",
       "             ('ReLU-18',\n",
       "              OrderedDict([('input_shape', [-1, 128, 56, 56]),\n",
       "                           ('output_shape', [-1, 128, 56, 56]),\n",
       "                           ('nb_params', 0)])),\n",
       "             ('Conv2d-19',\n",
       "              OrderedDict([('input_shape', [-1, 128, 56, 56]),\n",
       "                           ('output_shape', [-1, 128, 56, 56]),\n",
       "                           ('trainable', True),\n",
       "                           ('nb_params', tensor(4608))])),\n",
       "             ('BatchNorm2d-20',\n",
       "              OrderedDict([('input_shape', [-1, 128, 56, 56]),\n",
       "                           ('output_shape', [-1, 128, 56, 56]),\n",
       "                           ('trainable', True),\n",
       "                           ('nb_params', tensor(256))])),\n",
       "             ('ReLU-21',\n",
       "              OrderedDict([('input_shape', [-1, 128, 56, 56]),\n",
       "                           ('output_shape', [-1, 128, 56, 56]),\n",
       "                           ('nb_params', 0)])),\n",
       "             ('Conv2d-22',\n",
       "              OrderedDict([('input_shape', [-1, 128, 56, 56]),\n",
       "                           ('output_shape', [-1, 256, 56, 56]),\n",
       "                           ('trainable', True),\n",
       "                           ('nb_params', tensor(32768))])),\n",
       "             ('BatchNorm2d-23',\n",
       "              OrderedDict([('input_shape', [-1, 256, 56, 56]),\n",
       "                           ('output_shape', [-1, 256, 56, 56]),\n",
       "                           ('trainable', True),\n",
       "                           ('nb_params', tensor(512))])),\n",
       "             ('ReLU-24',\n",
       "              OrderedDict([('input_shape', [-1, 256, 56, 56]),\n",
       "                           ('output_shape', [-1, 256, 56, 56]),\n",
       "                           ('nb_params', 0)])),\n",
       "             ('Conv2d-25',\n",
       "              OrderedDict([('input_shape', [-1, 256, 56, 56]),\n",
       "                           ('output_shape', [-1, 128, 56, 56]),\n",
       "                           ('trainable', True),\n",
       "                           ('nb_params', tensor(32768))])),\n",
       "             ('BatchNorm2d-26',\n",
       "              OrderedDict([('input_shape', [-1, 128, 56, 56]),\n",
       "                           ('output_shape', [-1, 128, 56, 56]),\n",
       "                           ('trainable', True),\n",
       "                           ('nb_params', tensor(256))])),\n",
       "             ('ReLU-27',\n",
       "              OrderedDict([('input_shape', [-1, 128, 56, 56]),\n",
       "                           ('output_shape', [-1, 128, 56, 56]),\n",
       "                           ('nb_params', 0)])),\n",
       "             ('Conv2d-28',\n",
       "              OrderedDict([('input_shape', [-1, 128, 56, 56]),\n",
       "                           ('output_shape', [-1, 128, 56, 56]),\n",
       "                           ('trainable', True),\n",
       "                           ('nb_params', tensor(4608))])),\n",
       "             ('BatchNorm2d-29',\n",
       "              OrderedDict([('input_shape', [-1, 128, 56, 56]),\n",
       "                           ('output_shape', [-1, 128, 56, 56]),\n",
       "                           ('trainable', True),\n",
       "                           ('nb_params', tensor(256))])),\n",
       "             ('ReLU-30',\n",
       "              OrderedDict([('input_shape', [-1, 128, 56, 56]),\n",
       "                           ('output_shape', [-1, 128, 56, 56]),\n",
       "                           ('nb_params', 0)])),\n",
       "             ('Conv2d-31',\n",
       "              OrderedDict([('input_shape', [-1, 128, 56, 56]),\n",
       "                           ('output_shape', [-1, 256, 56, 56]),\n",
       "                           ('trainable', True),\n",
       "                           ('nb_params', tensor(32768))])),\n",
       "             ('BatchNorm2d-32',\n",
       "              OrderedDict([('input_shape', [-1, 256, 56, 56]),\n",
       "                           ('output_shape', [-1, 256, 56, 56]),\n",
       "                           ('trainable', True),\n",
       "                           ('nb_params', tensor(512))])),\n",
       "             ('ReLU-33',\n",
       "              OrderedDict([('input_shape', [-1, 256, 56, 56]),\n",
       "                           ('output_shape', [-1, 256, 56, 56]),\n",
       "                           ('nb_params', 0)])),\n",
       "             ('Conv2d-34',\n",
       "              OrderedDict([('input_shape', [-1, 256, 56, 56]),\n",
       "                           ('output_shape', [-1, 256, 56, 56]),\n",
       "                           ('trainable', True),\n",
       "                           ('nb_params', tensor(65536))])),\n",
       "             ('BatchNorm2d-35',\n",
       "              OrderedDict([('input_shape', [-1, 256, 56, 56]),\n",
       "                           ('output_shape', [-1, 256, 56, 56]),\n",
       "                           ('trainable', True),\n",
       "                           ('nb_params', tensor(512))])),\n",
       "             ('ReLU-36',\n",
       "              OrderedDict([('input_shape', [-1, 256, 56, 56]),\n",
       "                           ('output_shape', [-1, 256, 56, 56]),\n",
       "                           ('nb_params', 0)])),\n",
       "             ('Conv2d-37',\n",
       "              OrderedDict([('input_shape', [-1, 256, 56, 56]),\n",
       "                           ('output_shape', [-1, 256, 28, 28]),\n",
       "                           ('trainable', True),\n",
       "                           ('nb_params', tensor(18432))])),\n",
       "             ('BatchNorm2d-38',\n",
       "              OrderedDict([('input_shape', [-1, 256, 28, 28]),\n",
       "                           ('output_shape', [-1, 256, 28, 28]),\n",
       "                           ('trainable', True),\n",
       "                           ('nb_params', tensor(512))])),\n",
       "             ('ReLU-39',\n",
       "              OrderedDict([('input_shape', [-1, 256, 28, 28]),\n",
       "                           ('output_shape', [-1, 256, 28, 28]),\n",
       "                           ('nb_params', 0)])),\n",
       "             ('Conv2d-40',\n",
       "              OrderedDict([('input_shape', [-1, 256, 28, 28]),\n",
       "                           ('output_shape', [-1, 512, 28, 28]),\n",
       "                           ('trainable', True),\n",
       "                           ('nb_params', tensor(131072))])),\n",
       "             ('BatchNorm2d-41',\n",
       "              OrderedDict([('input_shape', [-1, 512, 28, 28]),\n",
       "                           ('output_shape', [-1, 512, 28, 28]),\n",
       "                           ('trainable', True),\n",
       "                           ('nb_params', tensor(1024))])),\n",
       "             ('Conv2d-42',\n",
       "              OrderedDict([('input_shape', [-1, 256, 56, 56]),\n",
       "                           ('output_shape', [-1, 512, 28, 28]),\n",
       "                           ('trainable', True),\n",
       "                           ('nb_params', tensor(131072))])),\n",
       "             ('BatchNorm2d-43',\n",
       "              OrderedDict([('input_shape', [-1, 512, 28, 28]),\n",
       "                           ('output_shape', [-1, 512, 28, 28]),\n",
       "                           ('trainable', True),\n",
       "                           ('nb_params', tensor(1024))])),\n",
       "             ('ReLU-44',\n",
       "              OrderedDict([('input_shape', [-1, 512, 28, 28]),\n",
       "                           ('output_shape', [-1, 512, 28, 28]),\n",
       "                           ('nb_params', 0)])),\n",
       "             ('Conv2d-45',\n",
       "              OrderedDict([('input_shape', [-1, 512, 28, 28]),\n",
       "                           ('output_shape', [-1, 256, 28, 28]),\n",
       "                           ('trainable', True),\n",
       "                           ('nb_params', tensor(131072))])),\n",
       "             ('BatchNorm2d-46',\n",
       "              OrderedDict([('input_shape', [-1, 256, 28, 28]),\n",
       "                           ('output_shape', [-1, 256, 28, 28]),\n",
       "                           ('trainable', True),\n",
       "                           ('nb_params', tensor(512))])),\n",
       "             ('ReLU-47',\n",
       "              OrderedDict([('input_shape', [-1, 256, 28, 28]),\n",
       "                           ('output_shape', [-1, 256, 28, 28]),\n",
       "                           ('nb_params', 0)])),\n",
       "             ('Conv2d-48',\n",
       "              OrderedDict([('input_shape', [-1, 256, 28, 28]),\n",
       "                           ('output_shape', [-1, 256, 28, 28]),\n",
       "                           ('trainable', True),\n",
       "                           ('nb_params', tensor(18432))])),\n",
       "             ('BatchNorm2d-49',\n",
       "              OrderedDict([('input_shape', [-1, 256, 28, 28]),\n",
       "                           ('output_shape', [-1, 256, 28, 28]),\n",
       "                           ('trainable', True),\n",
       "                           ('nb_params', tensor(512))])),\n",
       "             ('ReLU-50',\n",
       "              OrderedDict([('input_shape', [-1, 256, 28, 28]),\n",
       "                           ('output_shape', [-1, 256, 28, 28]),\n",
       "                           ('nb_params', 0)])),\n",
       "             ('Conv2d-51',\n",
       "              OrderedDict([('input_shape', [-1, 256, 28, 28]),\n",
       "                           ('output_shape', [-1, 512, 28, 28]),\n",
       "                           ('trainable', True),\n",
       "                           ('nb_params', tensor(131072))])),\n",
       "             ('BatchNorm2d-52',\n",
       "              OrderedDict([('input_shape', [-1, 512, 28, 28]),\n",
       "                           ('output_shape', [-1, 512, 28, 28]),\n",
       "                           ('trainable', True),\n",
       "                           ('nb_params', tensor(1024))])),\n",
       "             ('ReLU-53',\n",
       "              OrderedDict([('input_shape', [-1, 512, 28, 28]),\n",
       "                           ('output_shape', [-1, 512, 28, 28]),\n",
       "                           ('nb_params', 0)])),\n",
       "             ('Conv2d-54',\n",
       "              OrderedDict([('input_shape', [-1, 512, 28, 28]),\n",
       "                           ('output_shape', [-1, 256, 28, 28]),\n",
       "                           ('trainable', True),\n",
       "                           ('nb_params', tensor(131072))])),\n",
       "             ('BatchNorm2d-55',\n",
       "              OrderedDict([('input_shape', [-1, 256, 28, 28]),\n",
       "                           ('output_shape', [-1, 256, 28, 28]),\n",
       "                           ('trainable', True),\n",
       "                           ('nb_params', tensor(512))])),\n",
       "             ('ReLU-56',\n",
       "              OrderedDict([('input_shape', [-1, 256, 28, 28]),\n",
       "                           ('output_shape', [-1, 256, 28, 28]),\n",
       "                           ('nb_params', 0)])),\n",
       "             ('Conv2d-57',\n",
       "              OrderedDict([('input_shape', [-1, 256, 28, 28]),\n",
       "                           ('output_shape', [-1, 256, 28, 28]),\n",
       "                           ('trainable', True),\n",
       "                           ('nb_params', tensor(18432))])),\n",
       "             ('BatchNorm2d-58',\n",
       "              OrderedDict([('input_shape', [-1, 256, 28, 28]),\n",
       "                           ('output_shape', [-1, 256, 28, 28]),\n",
       "                           ('trainable', True),\n",
       "                           ('nb_params', tensor(512))])),\n",
       "             ('ReLU-59',\n",
       "              OrderedDict([('input_shape', [-1, 256, 28, 28]),\n",
       "                           ('output_shape', [-1, 256, 28, 28]),\n",
       "                           ('nb_params', 0)])),\n",
       "             ('Conv2d-60',\n",
       "              OrderedDict([('input_shape', [-1, 256, 28, 28]),\n",
       "                           ('output_shape', [-1, 512, 28, 28]),\n",
       "                           ('trainable', True),\n",
       "                           ('nb_params', tensor(131072))])),\n",
       "             ('BatchNorm2d-61',\n",
       "              OrderedDict([('input_shape', [-1, 512, 28, 28]),\n",
       "                           ('output_shape', [-1, 512, 28, 28]),\n",
       "                           ('trainable', True),\n",
       "                           ('nb_params', tensor(1024))])),\n",
       "             ('ReLU-62',\n",
       "              OrderedDict([('input_shape', [-1, 512, 28, 28]),\n",
       "                           ('output_shape', [-1, 512, 28, 28]),\n",
       "                           ('nb_params', 0)])),\n",
       "             ('Conv2d-63',\n",
       "              OrderedDict([('input_shape', [-1, 512, 28, 28]),\n",
       "                           ('output_shape', [-1, 256, 28, 28]),\n",
       "                           ('trainable', True),\n",
       "                           ('nb_params', tensor(131072))])),\n",
       "             ('BatchNorm2d-64',\n",
       "              OrderedDict([('input_shape', [-1, 256, 28, 28]),\n",
       "                           ('output_shape', [-1, 256, 28, 28]),\n",
       "                           ('trainable', True),\n",
       "                           ('nb_params', tensor(512))])),\n",
       "             ('ReLU-65',\n",
       "              OrderedDict([('input_shape', [-1, 256, 28, 28]),\n",
       "                           ('output_shape', [-1, 256, 28, 28]),\n",
       "                           ('nb_params', 0)])),\n",
       "             ('Conv2d-66',\n",
       "              OrderedDict([('input_shape', [-1, 256, 28, 28]),\n",
       "                           ('output_shape', [-1, 256, 28, 28]),\n",
       "                           ('trainable', True),\n",
       "                           ('nb_params', tensor(18432))])),\n",
       "             ('BatchNorm2d-67',\n",
       "              OrderedDict([('input_shape', [-1, 256, 28, 28]),\n",
       "                           ('output_shape', [-1, 256, 28, 28]),\n",
       "                           ('trainable', True),\n",
       "                           ('nb_params', tensor(512))])),\n",
       "             ('ReLU-68',\n",
       "              OrderedDict([('input_shape', [-1, 256, 28, 28]),\n",
       "                           ('output_shape', [-1, 256, 28, 28]),\n",
       "                           ('nb_params', 0)])),\n",
       "             ('Conv2d-69',\n",
       "              OrderedDict([('input_shape', [-1, 256, 28, 28]),\n",
       "                           ('output_shape', [-1, 512, 28, 28]),\n",
       "                           ('trainable', True),\n",
       "                           ('nb_params', tensor(131072))])),\n",
       "             ('BatchNorm2d-70',\n",
       "              OrderedDict([('input_shape', [-1, 512, 28, 28]),\n",
       "                           ('output_shape', [-1, 512, 28, 28]),\n",
       "                           ('trainable', True),\n",
       "                           ('nb_params', tensor(1024))])),\n",
       "             ('ReLU-71',\n",
       "              OrderedDict([('input_shape', [-1, 512, 28, 28]),\n",
       "                           ('output_shape', [-1, 512, 28, 28]),\n",
       "                           ('nb_params', 0)])),\n",
       "             ('Conv2d-72',\n",
       "              OrderedDict([('input_shape', [-1, 512, 28, 28]),\n",
       "                           ('output_shape', [-1, 512, 28, 28]),\n",
       "                           ('trainable', True),\n",
       "                           ('nb_params', tensor(262144))])),\n",
       "             ('BatchNorm2d-73',\n",
       "              OrderedDict([('input_shape', [-1, 512, 28, 28]),\n",
       "                           ('output_shape', [-1, 512, 28, 28]),\n",
       "                           ('trainable', True),\n",
       "                           ('nb_params', tensor(1024))])),\n",
       "             ('ReLU-74',\n",
       "              OrderedDict([('input_shape', [-1, 512, 28, 28]),\n",
       "                           ('output_shape', [-1, 512, 28, 28]),\n",
       "                           ('nb_params', 0)])),\n",
       "             ('Conv2d-75',\n",
       "              OrderedDict([('input_shape', [-1, 512, 28, 28]),\n",
       "                           ('output_shape', [-1, 512, 14, 14]),\n",
       "                           ('trainable', True),\n",
       "                           ('nb_params', tensor(73728))])),\n",
       "             ('BatchNorm2d-76',\n",
       "              OrderedDict([('input_shape', [-1, 512, 14, 14]),\n",
       "                           ('output_shape', [-1, 512, 14, 14]),\n",
       "                           ('trainable', True),\n",
       "                           ('nb_params', tensor(1024))])),\n",
       "             ('ReLU-77',\n",
       "              OrderedDict([('input_shape', [-1, 512, 14, 14]),\n",
       "                           ('output_shape', [-1, 512, 14, 14]),\n",
       "                           ('nb_params', 0)])),\n",
       "             ('Conv2d-78',\n",
       "              OrderedDict([('input_shape', [-1, 512, 14, 14]),\n",
       "                           ('output_shape', [-1, 1024, 14, 14]),\n",
       "                           ('trainable', True),\n",
       "                           ('nb_params', tensor(524288))])),\n",
       "             ('BatchNorm2d-79',\n",
       "              OrderedDict([('input_shape', [-1, 1024, 14, 14]),\n",
       "                           ('output_shape', [-1, 1024, 14, 14]),\n",
       "                           ('trainable', True),\n",
       "                           ('nb_params', tensor(2048))])),\n",
       "             ('Conv2d-80',\n",
       "              OrderedDict([('input_shape', [-1, 512, 28, 28]),\n",
       "                           ('output_shape', [-1, 1024, 14, 14]),\n",
       "                           ('trainable', True),\n",
       "                           ('nb_params', tensor(524288))])),\n",
       "             ('BatchNorm2d-81',\n",
       "              OrderedDict([('input_shape', [-1, 1024, 14, 14]),\n",
       "                           ('output_shape', [-1, 1024, 14, 14]),\n",
       "                           ('trainable', True),\n",
       "                           ('nb_params', tensor(2048))])),\n",
       "             ('ReLU-82',\n",
       "              OrderedDict([('input_shape', [-1, 1024, 14, 14]),\n",
       "                           ('output_shape', [-1, 1024, 14, 14]),\n",
       "                           ('nb_params', 0)])),\n",
       "             ('Conv2d-83',\n",
       "              OrderedDict([('input_shape', [-1, 1024, 14, 14]),\n",
       "                           ('output_shape', [-1, 512, 14, 14]),\n",
       "                           ('trainable', True),\n",
       "                           ('nb_params', tensor(524288))])),\n",
       "             ('BatchNorm2d-84',\n",
       "              OrderedDict([('input_shape', [-1, 512, 14, 14]),\n",
       "                           ('output_shape', [-1, 512, 14, 14]),\n",
       "                           ('trainable', True),\n",
       "                           ('nb_params', tensor(1024))])),\n",
       "             ('ReLU-85',\n",
       "              OrderedDict([('input_shape', [-1, 512, 14, 14]),\n",
       "                           ('output_shape', [-1, 512, 14, 14]),\n",
       "                           ('nb_params', 0)])),\n",
       "             ('Conv2d-86',\n",
       "              OrderedDict([('input_shape', [-1, 512, 14, 14]),\n",
       "                           ('output_shape', [-1, 512, 14, 14]),\n",
       "                           ('trainable', True),\n",
       "                           ('nb_params', tensor(73728))])),\n",
       "             ('BatchNorm2d-87',\n",
       "              OrderedDict([('input_shape', [-1, 512, 14, 14]),\n",
       "                           ('output_shape', [-1, 512, 14, 14]),\n",
       "                           ('trainable', True),\n",
       "                           ('nb_params', tensor(1024))])),\n",
       "             ('ReLU-88',\n",
       "              OrderedDict([('input_shape', [-1, 512, 14, 14]),\n",
       "                           ('output_shape', [-1, 512, 14, 14]),\n",
       "                           ('nb_params', 0)])),\n",
       "             ('Conv2d-89',\n",
       "              OrderedDict([('input_shape', [-1, 512, 14, 14]),\n",
       "                           ('output_shape', [-1, 1024, 14, 14]),\n",
       "                           ('trainable', True),\n",
       "                           ('nb_params', tensor(524288))])),\n",
       "             ('BatchNorm2d-90',\n",
       "              OrderedDict([('input_shape', [-1, 1024, 14, 14]),\n",
       "                           ('output_shape', [-1, 1024, 14, 14]),\n",
       "                           ('trainable', True),\n",
       "                           ('nb_params', tensor(2048))])),\n",
       "             ('ReLU-91',\n",
       "              OrderedDict([('input_shape', [-1, 1024, 14, 14]),\n",
       "                           ('output_shape', [-1, 1024, 14, 14]),\n",
       "                           ('nb_params', 0)])),\n",
       "             ('Conv2d-92',\n",
       "              OrderedDict([('input_shape', [-1, 1024, 14, 14]),\n",
       "                           ('output_shape', [-1, 512, 14, 14]),\n",
       "                           ('trainable', True),\n",
       "                           ('nb_params', tensor(524288))])),\n",
       "             ('BatchNorm2d-93',\n",
       "              OrderedDict([('input_shape', [-1, 512, 14, 14]),\n",
       "                           ('output_shape', [-1, 512, 14, 14]),\n",
       "                           ('trainable', True),\n",
       "                           ('nb_params', tensor(1024))])),\n",
       "             ('ReLU-94',\n",
       "              OrderedDict([('input_shape', [-1, 512, 14, 14]),\n",
       "                           ('output_shape', [-1, 512, 14, 14]),\n",
       "                           ('nb_params', 0)])),\n",
       "             ('Conv2d-95',\n",
       "              OrderedDict([('input_shape', [-1, 512, 14, 14]),\n",
       "                           ('output_shape', [-1, 512, 14, 14]),\n",
       "                           ('trainable', True),\n",
       "                           ('nb_params', tensor(73728))])),\n",
       "             ('BatchNorm2d-96',\n",
       "              OrderedDict([('input_shape', [-1, 512, 14, 14]),\n",
       "                           ('output_shape', [-1, 512, 14, 14]),\n",
       "                           ('trainable', True),\n",
       "                           ('nb_params', tensor(1024))])),\n",
       "             ('ReLU-97',\n",
       "              OrderedDict([('input_shape', [-1, 512, 14, 14]),\n",
       "                           ('output_shape', [-1, 512, 14, 14]),\n",
       "                           ('nb_params', 0)])),\n",
       "             ('Conv2d-98',\n",
       "              OrderedDict([('input_shape', [-1, 512, 14, 14]),\n",
       "                           ('output_shape', [-1, 1024, 14, 14]),\n",
       "                           ('trainable', True),\n",
       "                           ('nb_params', tensor(524288))])),\n",
       "             ('BatchNorm2d-99',\n",
       "              OrderedDict([('input_shape', [-1, 1024, 14, 14]),\n",
       "                           ('output_shape', [-1, 1024, 14, 14]),\n",
       "                           ('trainable', True),\n",
       "                           ('nb_params', tensor(2048))])),\n",
       "             ('ReLU-100',\n",
       "              OrderedDict([('input_shape', [-1, 1024, 14, 14]),\n",
       "                           ('output_shape', [-1, 1024, 14, 14]),\n",
       "                           ('nb_params', 0)])),\n",
       "             ('Conv2d-101',\n",
       "              OrderedDict([('input_shape', [-1, 1024, 14, 14]),\n",
       "                           ('output_shape', [-1, 512, 14, 14]),\n",
       "                           ('trainable', True),\n",
       "                           ('nb_params', tensor(524288))])),\n",
       "             ('BatchNorm2d-102',\n",
       "              OrderedDict([('input_shape', [-1, 512, 14, 14]),\n",
       "                           ('output_shape', [-1, 512, 14, 14]),\n",
       "                           ('trainable', True),\n",
       "                           ('nb_params', tensor(1024))])),\n",
       "             ('ReLU-103',\n",
       "              OrderedDict([('input_shape', [-1, 512, 14, 14]),\n",
       "                           ('output_shape', [-1, 512, 14, 14]),\n",
       "                           ('nb_params', 0)])),\n",
       "             ('Conv2d-104',\n",
       "              OrderedDict([('input_shape', [-1, 512, 14, 14]),\n",
       "                           ('output_shape', [-1, 512, 14, 14]),\n",
       "                           ('trainable', True),\n",
       "                           ('nb_params', tensor(73728))])),\n",
       "             ('BatchNorm2d-105',\n",
       "              OrderedDict([('input_shape', [-1, 512, 14, 14]),\n",
       "                           ('output_shape', [-1, 512, 14, 14]),\n",
       "                           ('trainable', True),\n",
       "                           ('nb_params', tensor(1024))])),\n",
       "             ('ReLU-106',\n",
       "              OrderedDict([('input_shape', [-1, 512, 14, 14]),\n",
       "                           ('output_shape', [-1, 512, 14, 14]),\n",
       "                           ('nb_params', 0)])),\n",
       "             ('Conv2d-107',\n",
       "              OrderedDict([('input_shape', [-1, 512, 14, 14]),\n",
       "                           ('output_shape', [-1, 1024, 14, 14]),\n",
       "                           ('trainable', True),\n",
       "                           ('nb_params', tensor(524288))])),\n",
       "             ('BatchNorm2d-108',\n",
       "              OrderedDict([('input_shape', [-1, 1024, 14, 14]),\n",
       "                           ('output_shape', [-1, 1024, 14, 14]),\n",
       "                           ('trainable', True),\n",
       "                           ('nb_params', tensor(2048))])),\n",
       "             ('ReLU-109',\n",
       "              OrderedDict([('input_shape', [-1, 1024, 14, 14]),\n",
       "                           ('output_shape', [-1, 1024, 14, 14]),\n",
       "                           ('nb_params', 0)])),\n",
       "             ('Conv2d-110',\n",
       "              OrderedDict([('input_shape', [-1, 1024, 14, 14]),\n",
       "                           ('output_shape', [-1, 512, 14, 14]),\n",
       "                           ('trainable', True),\n",
       "                           ('nb_params', tensor(524288))])),\n",
       "             ('BatchNorm2d-111',\n",
       "              OrderedDict([('input_shape', [-1, 512, 14, 14]),\n",
       "                           ('output_shape', [-1, 512, 14, 14]),\n",
       "                           ('trainable', True),\n",
       "                           ('nb_params', tensor(1024))])),\n",
       "             ('ReLU-112',\n",
       "              OrderedDict([('input_shape', [-1, 512, 14, 14]),\n",
       "                           ('output_shape', [-1, 512, 14, 14]),\n",
       "                           ('nb_params', 0)])),\n",
       "             ('Conv2d-113',\n",
       "              OrderedDict([('input_shape', [-1, 512, 14, 14]),\n",
       "                           ('output_shape', [-1, 512, 14, 14]),\n",
       "                           ('trainable', True),\n",
       "                           ('nb_params', tensor(73728))])),\n",
       "             ('BatchNorm2d-114',\n",
       "              OrderedDict([('input_shape', [-1, 512, 14, 14]),\n",
       "                           ('output_shape', [-1, 512, 14, 14]),\n",
       "                           ('trainable', True),\n",
       "                           ('nb_params', tensor(1024))])),\n",
       "             ('ReLU-115',\n",
       "              OrderedDict([('input_shape', [-1, 512, 14, 14]),\n",
       "                           ('output_shape', [-1, 512, 14, 14]),\n",
       "                           ('nb_params', 0)])),\n",
       "             ('Conv2d-116',\n",
       "              OrderedDict([('input_shape', [-1, 512, 14, 14]),\n",
       "                           ('output_shape', [-1, 1024, 14, 14]),\n",
       "                           ('trainable', True),\n",
       "                           ('nb_params', tensor(524288))])),\n",
       "             ('BatchNorm2d-117',\n",
       "              OrderedDict([('input_shape', [-1, 1024, 14, 14]),\n",
       "                           ('output_shape', [-1, 1024, 14, 14]),\n",
       "                           ('trainable', True),\n",
       "                           ('nb_params', tensor(2048))])),\n",
       "             ('ReLU-118',\n",
       "              OrderedDict([('input_shape', [-1, 1024, 14, 14]),\n",
       "                           ('output_shape', [-1, 1024, 14, 14]),\n",
       "                           ('nb_params', 0)])),\n",
       "             ('Conv2d-119',\n",
       "              OrderedDict([('input_shape', [-1, 1024, 14, 14]),\n",
       "                           ('output_shape', [-1, 512, 14, 14]),\n",
       "                           ('trainable', True),\n",
       "                           ('nb_params', tensor(524288))])),\n",
       "             ('BatchNorm2d-120',\n",
       "              OrderedDict([('input_shape', [-1, 512, 14, 14]),\n",
       "                           ('output_shape', [-1, 512, 14, 14]),\n",
       "                           ('trainable', True),\n",
       "                           ('nb_params', tensor(1024))])),\n",
       "             ('ReLU-121',\n",
       "              OrderedDict([('input_shape', [-1, 512, 14, 14]),\n",
       "                           ('output_shape', [-1, 512, 14, 14]),\n",
       "                           ('nb_params', 0)])),\n",
       "             ('Conv2d-122',\n",
       "              OrderedDict([('input_shape', [-1, 512, 14, 14]),\n",
       "                           ('output_shape', [-1, 512, 14, 14]),\n",
       "                           ('trainable', True),\n",
       "                           ('nb_params', tensor(73728))])),\n",
       "             ('BatchNorm2d-123',\n",
       "              OrderedDict([('input_shape', [-1, 512, 14, 14]),\n",
       "                           ('output_shape', [-1, 512, 14, 14]),\n",
       "                           ('trainable', True),\n",
       "                           ('nb_params', tensor(1024))])),\n",
       "             ('ReLU-124',\n",
       "              OrderedDict([('input_shape', [-1, 512, 14, 14]),\n",
       "                           ('output_shape', [-1, 512, 14, 14]),\n",
       "                           ('nb_params', 0)])),\n",
       "             ('Conv2d-125',\n",
       "              OrderedDict([('input_shape', [-1, 512, 14, 14]),\n",
       "                           ('output_shape', [-1, 1024, 14, 14]),\n",
       "                           ('trainable', True),\n",
       "                           ('nb_params', tensor(524288))])),\n",
       "             ('BatchNorm2d-126',\n",
       "              OrderedDict([('input_shape', [-1, 1024, 14, 14]),\n",
       "                           ('output_shape', [-1, 1024, 14, 14]),\n",
       "                           ('trainable', True),\n",
       "                           ('nb_params', tensor(2048))])),\n",
       "             ('ReLU-127',\n",
       "              OrderedDict([('input_shape', [-1, 1024, 14, 14]),\n",
       "                           ('output_shape', [-1, 1024, 14, 14]),\n",
       "                           ('nb_params', 0)])),\n",
       "             ('Conv2d-128',\n",
       "              OrderedDict([('input_shape', [-1, 1024, 14, 14]),\n",
       "                           ('output_shape', [-1, 1024, 14, 14]),\n",
       "                           ('trainable', True),\n",
       "                           ('nb_params', tensor(1048576))])),\n",
       "             ('BatchNorm2d-129',\n",
       "              OrderedDict([('input_shape', [-1, 1024, 14, 14]),\n",
       "                           ('output_shape', [-1, 1024, 14, 14]),\n",
       "                           ('trainable', True),\n",
       "                           ('nb_params', tensor(2048))])),\n",
       "             ('ReLU-130',\n",
       "              OrderedDict([('input_shape', [-1, 1024, 14, 14]),\n",
       "                           ('output_shape', [-1, 1024, 14, 14]),\n",
       "                           ('nb_params', 0)])),\n",
       "             ('Conv2d-131',\n",
       "              OrderedDict([('input_shape', [-1, 1024, 14, 14]),\n",
       "                           ('output_shape', [-1, 1024, 7, 7]),\n",
       "                           ('trainable', True),\n",
       "                           ('nb_params', tensor(294912))])),\n",
       "             ('BatchNorm2d-132',\n",
       "              OrderedDict([('input_shape', [-1, 1024, 7, 7]),\n",
       "                           ('output_shape', [-1, 1024, 7, 7]),\n",
       "                           ('trainable', True),\n",
       "                           ('nb_params', tensor(2048))])),\n",
       "             ('ReLU-133',\n",
       "              OrderedDict([('input_shape', [-1, 1024, 7, 7]),\n",
       "                           ('output_shape', [-1, 1024, 7, 7]),\n",
       "                           ('nb_params', 0)])),\n",
       "             ('Conv2d-134',\n",
       "              OrderedDict([('input_shape', [-1, 1024, 7, 7]),\n",
       "                           ('output_shape', [-1, 2048, 7, 7]),\n",
       "                           ('trainable', True),\n",
       "                           ('nb_params', tensor(2097152))])),\n",
       "             ('BatchNorm2d-135',\n",
       "              OrderedDict([('input_shape', [-1, 2048, 7, 7]),\n",
       "                           ('output_shape', [-1, 2048, 7, 7]),\n",
       "                           ('trainable', True),\n",
       "                           ('nb_params', tensor(4096))])),\n",
       "             ('Conv2d-136',\n",
       "              OrderedDict([('input_shape', [-1, 1024, 14, 14]),\n",
       "                           ('output_shape', [-1, 2048, 7, 7]),\n",
       "                           ('trainable', True),\n",
       "                           ('nb_params', tensor(2097152))])),\n",
       "             ('BatchNorm2d-137',\n",
       "              OrderedDict([('input_shape', [-1, 2048, 7, 7]),\n",
       "                           ('output_shape', [-1, 2048, 7, 7]),\n",
       "                           ('trainable', True),\n",
       "                           ('nb_params', tensor(4096))])),\n",
       "             ('ReLU-138',\n",
       "              OrderedDict([('input_shape', [-1, 2048, 7, 7]),\n",
       "                           ('output_shape', [-1, 2048, 7, 7]),\n",
       "                           ('nb_params', 0)])),\n",
       "             ('Conv2d-139',\n",
       "              OrderedDict([('input_shape', [-1, 2048, 7, 7]),\n",
       "                           ('output_shape', [-1, 1024, 7, 7]),\n",
       "                           ('trainable', True),\n",
       "                           ('nb_params', tensor(2097152))])),\n",
       "             ('BatchNorm2d-140',\n",
       "              OrderedDict([('input_shape', [-1, 1024, 7, 7]),\n",
       "                           ('output_shape', [-1, 1024, 7, 7]),\n",
       "                           ('trainable', True),\n",
       "                           ('nb_params', tensor(2048))])),\n",
       "             ('ReLU-141',\n",
       "              OrderedDict([('input_shape', [-1, 1024, 7, 7]),\n",
       "                           ('output_shape', [-1, 1024, 7, 7]),\n",
       "                           ('nb_params', 0)])),\n",
       "             ('Conv2d-142',\n",
       "              OrderedDict([('input_shape', [-1, 1024, 7, 7]),\n",
       "                           ('output_shape', [-1, 1024, 7, 7]),\n",
       "                           ('trainable', True),\n",
       "                           ('nb_params', tensor(294912))])),\n",
       "             ('BatchNorm2d-143',\n",
       "              OrderedDict([('input_shape', [-1, 1024, 7, 7]),\n",
       "                           ('output_shape', [-1, 1024, 7, 7]),\n",
       "                           ('trainable', True),\n",
       "                           ('nb_params', tensor(2048))])),\n",
       "             ('ReLU-144',\n",
       "              OrderedDict([('input_shape', [-1, 1024, 7, 7]),\n",
       "                           ('output_shape', [-1, 1024, 7, 7]),\n",
       "                           ('nb_params', 0)])),\n",
       "             ('Conv2d-145',\n",
       "              OrderedDict([('input_shape', [-1, 1024, 7, 7]),\n",
       "                           ('output_shape', [-1, 2048, 7, 7]),\n",
       "                           ('trainable', True),\n",
       "                           ('nb_params', tensor(2097152))])),\n",
       "             ('BatchNorm2d-146',\n",
       "              OrderedDict([('input_shape', [-1, 2048, 7, 7]),\n",
       "                           ('output_shape', [-1, 2048, 7, 7]),\n",
       "                           ('trainable', True),\n",
       "                           ('nb_params', tensor(4096))])),\n",
       "             ('ReLU-147',\n",
       "              OrderedDict([('input_shape', [-1, 2048, 7, 7]),\n",
       "                           ('output_shape', [-1, 2048, 7, 7]),\n",
       "                           ('nb_params', 0)])),\n",
       "             ('Conv2d-148',\n",
       "              OrderedDict([('input_shape', [-1, 2048, 7, 7]),\n",
       "                           ('output_shape', [-1, 1024, 7, 7]),\n",
       "                           ('trainable', True),\n",
       "                           ('nb_params', tensor(2097152))])),\n",
       "             ('BatchNorm2d-149',\n",
       "              OrderedDict([('input_shape', [-1, 1024, 7, 7]),\n",
       "                           ('output_shape', [-1, 1024, 7, 7]),\n",
       "                           ('trainable', True),\n",
       "                           ('nb_params', tensor(2048))])),\n",
       "             ('ReLU-150',\n",
       "              OrderedDict([('input_shape', [-1, 1024, 7, 7]),\n",
       "                           ('output_shape', [-1, 1024, 7, 7]),\n",
       "                           ('nb_params', 0)])),\n",
       "             ('Conv2d-151',\n",
       "              OrderedDict([('input_shape', [-1, 1024, 7, 7]),\n",
       "                           ('output_shape', [-1, 1024, 7, 7]),\n",
       "                           ('trainable', True),\n",
       "                           ('nb_params', tensor(294912))])),\n",
       "             ('BatchNorm2d-152',\n",
       "              OrderedDict([('input_shape', [-1, 1024, 7, 7]),\n",
       "                           ('output_shape', [-1, 1024, 7, 7]),\n",
       "                           ('trainable', True),\n",
       "                           ('nb_params', tensor(2048))])),\n",
       "             ('ReLU-153',\n",
       "              OrderedDict([('input_shape', [-1, 1024, 7, 7]),\n",
       "                           ('output_shape', [-1, 1024, 7, 7]),\n",
       "                           ('nb_params', 0)])),\n",
       "             ('Conv2d-154',\n",
       "              OrderedDict([('input_shape', [-1, 1024, 7, 7]),\n",
       "                           ('output_shape', [-1, 2048, 7, 7]),\n",
       "                           ('trainable', True),\n",
       "                           ('nb_params', tensor(2097152))])),\n",
       "             ('BatchNorm2d-155',\n",
       "              OrderedDict([('input_shape', [-1, 2048, 7, 7]),\n",
       "                           ('output_shape', [-1, 2048, 7, 7]),\n",
       "                           ('trainable', True),\n",
       "                           ('nb_params', tensor(4096))])),\n",
       "             ('ReLU-156',\n",
       "              OrderedDict([('input_shape', [-1, 2048, 7, 7]),\n",
       "                           ('output_shape', [-1, 2048, 7, 7]),\n",
       "                           ('nb_params', 0)])),\n",
       "             ('AdaptiveMaxPool2d-157',\n",
       "              OrderedDict([('input_shape', [-1, 2048, 7, 7]),\n",
       "                           ('output_shape', [-1, 2048, 1, 1]),\n",
       "                           ('nb_params', 0)])),\n",
       "             ('AdaptiveAvgPool2d-158',\n",
       "              OrderedDict([('input_shape', [-1, 2048, 7, 7]),\n",
       "                           ('output_shape', [-1, 2048, 1, 1]),\n",
       "                           ('nb_params', 0)])),\n",
       "             ('AdaptiveConcatPool2d-159',\n",
       "              OrderedDict([('input_shape', [-1, 2048, 7, 7]),\n",
       "                           ('output_shape', [-1, 4096, 1, 1]),\n",
       "                           ('nb_params', 0)])),\n",
       "             ('Flatten-160',\n",
       "              OrderedDict([('input_shape', [-1, 4096, 1, 1]),\n",
       "                           ('output_shape', [-1, 4096]),\n",
       "                           ('nb_params', 0)])),\n",
       "             ('BatchNorm1d-161',\n",
       "              OrderedDict([('input_shape', [-1, 4096]),\n",
       "                           ('output_shape', [-1, 4096]),\n",
       "                           ('trainable', True),\n",
       "                           ('nb_params', tensor(8192))])),\n",
       "             ('Dropout-162',\n",
       "              OrderedDict([('input_shape', [-1, 4096]),\n",
       "                           ('output_shape', [-1, 4096]),\n",
       "                           ('nb_params', 0)])),\n",
       "             ('Linear-163',\n",
       "              OrderedDict([('input_shape', [-1, 4096]),\n",
       "                           ('output_shape', [-1, 512]),\n",
       "                           ('trainable', True),\n",
       "                           ('nb_params', tensor(2097664))])),\n",
       "             ('ReLU-164',\n",
       "              OrderedDict([('input_shape', [-1, 512]),\n",
       "                           ('output_shape', [-1, 512]),\n",
       "                           ('nb_params', 0)])),\n",
       "             ('BatchNorm1d-165',\n",
       "              OrderedDict([('input_shape', [-1, 512]),\n",
       "                           ('output_shape', [-1, 512]),\n",
       "                           ('trainable', True),\n",
       "                           ('nb_params', tensor(1024))])),\n",
       "             ('Dropout-166',\n",
       "              OrderedDict([('input_shape', [-1, 512]),\n",
       "                           ('output_shape', [-1, 512]),\n",
       "                           ('nb_params', 0)])),\n",
       "             ('Linear-167',\n",
       "              OrderedDict([('input_shape', [-1, 512]),\n",
       "                           ('output_shape', [-1, 12]),\n",
       "                           ('trainable', True),\n",
       "                           ('nb_params', tensor(6156))])),\n",
       "             ('LogSoftmax-168',\n",
       "              OrderedDict([('input_shape', [-1, 12]),\n",
       "                           ('output_shape', [-1, 12]),\n",
       "                           ('nb_params', 0)]))])"
      ]
     },
     "execution_count": 23,
     "metadata": {},
     "output_type": "execute_result"
    }
   ],
   "source": [
    "learn.summary()"
   ]
  },
  {
   "cell_type": "code",
   "execution_count": 24,
   "metadata": {},
   "outputs": [
    {
     "data": {
      "application/vnd.jupyter.widget-view+json": {
       "model_id": "50da2532a94a48ba9011b413915dc6dd",
       "version_major": 2,
       "version_minor": 0
      },
      "text/plain": [
       "HBox(children=(IntProgress(value=0, description='Epoch', max=3, style=ProgressStyle(description_width='initial…"
      ]
     },
     "metadata": {},
     "output_type": "display_data"
    },
    {
     "name": "stdout",
     "output_type": "stream",
     "text": [
      "epoch      trn_loss   val_loss   accuracy                   \n",
      "    0      1.331      1.311638   0.587361  \n",
      "    1      1.294006   1.304416   0.579926                   \n",
      "    2      1.305864   1.31023    0.576739                   \n"
     ]
    },
    {
     "data": {
      "text/plain": [
       "[1.3102298772404692, 0.576739261173151]"
      ]
     },
     "execution_count": 24,
     "metadata": {},
     "output_type": "execute_result"
    }
   ],
   "source": [
    "learn.fit(1e-2, 3, cycle_len=1)"
   ]
  },
  {
   "cell_type": "markdown",
   "metadata": {},
   "source": [
    "Validation loss is much lower than training loss. This is a sign of underfitting. Cycle_len=1 may be too short. Let's set cycle_mult=2 to find better parameter."
   ]
  },
  {
   "cell_type": "code",
   "execution_count": 25,
   "metadata": {},
   "outputs": [],
   "source": [
    "learn.unfreeze()\n",
    "\n",
    "# set requires_grads to be True for all layers, so they can be updated\n",
    "\n",
    "learning_rate = [1e-5, 1e-5, 1e-4]\n",
    "# learning rate is set so that deepest third of layers have a rate of 0.001, # middle layers have a rate of 0.01, and final layers 0.1."
   ]
  },
  {
   "cell_type": "code",
   "execution_count": 26,
   "metadata": {},
   "outputs": [
    {
     "data": {
      "application/vnd.jupyter.widget-view+json": {
       "model_id": "1a510d7442ee46d49e67ed864652cfe9",
       "version_major": 2,
       "version_minor": 0
      },
      "text/plain": [
       "HBox(children=(IntProgress(value=0, description='Epoch', max=7, style=ProgressStyle(description_width='initial…"
      ]
     },
     "metadata": {},
     "output_type": "display_data"
    },
    {
     "name": "stdout",
     "output_type": "stream",
     "text": [
      "epoch      trn_loss   val_loss   accuracy                   \n",
      "    0      1.277813   1.302588   0.588423  \n",
      "    1      1.321117   1.323923   0.57727                    \n",
      "    2      1.220556   1.300368   0.585767                   \n",
      "    3      1.276826   1.329014   0.580988                   \n",
      "    4      1.228651   1.351145   0.577801                   \n",
      "    5      1.17493    1.316388   0.57196                    \n",
      "    6      1.105402   1.329681   0.573553                   \n"
     ]
    },
    {
     "data": {
      "text/plain": [
       "[1.3296809382281656, 0.5735528556767513]"
      ]
     },
     "execution_count": 26,
     "metadata": {},
     "output_type": "execute_result"
    }
   ],
   "source": [
    "# When you are under fitting, it means cycle_len=1 is too short (learning rate is getting reset before it had the chance to zoom in properly).\n",
    "learn.fit(1e-2, 3, cycle_len=1, cycle_mult=2) # 1+2+4 = 7 epochs"
   ]
  },
  {
   "cell_type": "markdown",
   "metadata": {},
   "source": [
    "Training loss and validation loss are getting closer and smaller. We are on right track."
   ]
  },
  {
   "cell_type": "code",
   "execution_count": 138,
   "metadata": {},
   "outputs": [
    {
     "name": "stdout",
     "output_type": "stream",
     "text": [
      "                                                           \r"
     ]
    },
    {
     "data": {
      "text/plain": [
       "(0.5724907063197026, 1.3786886784273897)"
      ]
     },
     "execution_count": 138,
     "metadata": {},
     "output_type": "execute_result"
    }
   ],
   "source": [
    "log_preds, y = learn.TTA() # (5, 2044, 120), (2044,)\n",
    "probs = np.mean(np.exp(log_preds),0)\n",
    "accuracy_np(probs, y), metrics.log_loss(y, probs)"
   ]
  },
  {
   "cell_type": "code",
   "execution_count": 139,
   "metadata": {},
   "outputs": [
    {
     "data": {
      "text/plain": [
       "(1883, array([5, 3, 3, 7, 3]))"
      ]
     },
     "execution_count": 139,
     "metadata": {},
     "output_type": "execute_result"
    }
   ],
   "source": [
    "len(data.val_ds.y), data.val_ds.y[:5]"
   ]
  },
  {
   "cell_type": "code",
   "execution_count": 140,
   "metadata": {},
   "outputs": [
    {
     "name": "stdout",
     "output_type": "stream",
     "text": [
      "7\n",
      "7\n",
      "[0.00005 0.00049 0.00009 0.00001 0.00291 0.00021 0.00006 0.99384 0.00068 0.00082 0.00015 0.0007 ]\n"
     ]
    },
    {
     "data": {
      "text/plain": [
       "'train/2130.jpg'"
      ]
     },
     "execution_count": 140,
     "metadata": {},
     "output_type": "execute_result"
    }
   ],
   "source": [
    "num = 13\n",
    "print(data.val_ds.y[num])\n",
    "print(np.argmax(probs[num]))\n",
    "\n",
    "print(probs[num])\n",
    "data.val_ds.fnames[num]"
   ]
  },
  {
   "cell_type": "code",
   "execution_count": 141,
   "metadata": {},
   "outputs": [
    {
     "data": {
      "text/plain": [
       "array([ 5,  3,  3, ..., 10,  0,  0])"
      ]
     },
     "execution_count": 141,
     "metadata": {},
     "output_type": "execute_result"
    }
   ],
   "source": [
    "np.argmax(probs,axis = 1)"
   ]
  },
  {
   "cell_type": "code",
   "execution_count": 198,
   "metadata": {},
   "outputs": [],
   "source": [
    "predictions = pd.DataFrame([data.val_ds.y,np.argmax(probs,axis = 1),\n",
    "                            [each[1] for each in np.argsort(-probs,axis = 1)],\n",
    "                            data.val_ds.fnames]).T"
   ]
  },
  {
   "cell_type": "code",
   "execution_count": 199,
   "metadata": {},
   "outputs": [
    {
     "data": {
      "text/plain": [
       "3"
      ]
     },
     "execution_count": 199,
     "metadata": {},
     "output_type": "execute_result"
    }
   ],
   "source": [
    "np.argmax(probs[1])"
   ]
  },
  {
   "cell_type": "code",
   "execution_count": 200,
   "metadata": {},
   "outputs": [
    {
     "name": "stdout",
     "output_type": "stream",
     "text": [
      "[0.00396 0.00326 0.00461 0.00408 0.00967 0.94797 0.00064 0.00199 0.00702 0.00491 0.0012  0.01071]\n"
     ]
    }
   ],
   "source": [
    "print(probs[0])"
   ]
  },
  {
   "cell_type": "code",
   "execution_count": 210,
   "metadata": {},
   "outputs": [
    {
     "data": {
      "text/plain": [
       "1373"
      ]
     },
     "execution_count": 210,
     "metadata": {},
     "output_type": "execute_result"
    }
   ],
   "source": [
    "predictions.loc[:,'acc1'] = predictions[0] == predictions[1]\n",
    "predictions.loc[:,'acc2'] = predictions[0] == predictions[2]\n",
    "((predictions.acc1) | (predictions.acc2)).sum()"
   ]
  },
  {
   "cell_type": "code",
   "execution_count": 211,
   "metadata": {},
   "outputs": [
    {
     "data": {
      "text/plain": [
       "1883"
      ]
     },
     "execution_count": 211,
     "metadata": {},
     "output_type": "execute_result"
    }
   ],
   "source": [
    "len(predictions)"
   ]
  },
  {
   "cell_type": "code",
   "execution_count": 213,
   "metadata": {},
   "outputs": [
    {
     "data": {
      "text/plain": [
       "0.5724907063197026"
      ]
     },
     "execution_count": 213,
     "metadata": {},
     "output_type": "execute_result"
    }
   ],
   "source": [
    "predictions.acc1.sum()/1883"
   ]
  },
  {
   "cell_type": "code",
   "execution_count": null,
   "metadata": {},
   "outputs": [],
   "source": [
    "learn.save('299_pre')"
   ]
  },
  {
   "cell_type": "code",
   "execution_count": null,
   "metadata": {},
   "outputs": [],
   "source": [
    "learn.load('299_pre')"
   ]
  },
  {
   "cell_type": "code",
   "execution_count": null,
   "metadata": {},
   "outputs": [],
   "source": [
    "learn.fit(1e-2, 1, cycle_len=2) # 1+1 = 2 epochs"
   ]
  },
  {
   "cell_type": "code",
   "execution_count": null,
   "metadata": {},
   "outputs": [],
   "source": [
    "learn.save('299_pre')"
   ]
  },
  {
   "cell_type": "code",
   "execution_count": null,
   "metadata": {},
   "outputs": [],
   "source": [
    "log_preds, y = learn.TTA()\n",
    "probs = np.mean(np.exp(log_preds),0)\n",
    "accuracy_np(probs, y), metrics.log_loss(y, probs)"
   ]
  },
  {
   "cell_type": "markdown",
   "metadata": {},
   "source": [
    "This dataset is so similar to ImageNet dataset. Training convolution layers doesn't help much. We are not going to unfreeze."
   ]
  },
  {
   "cell_type": "markdown",
   "metadata": {},
   "source": [
    "## Create submission\n",
    "\n",
    "https://youtu.be/9C06ZPF8Uuc?t=1905"
   ]
  },
  {
   "cell_type": "code",
   "execution_count": null,
   "metadata": {},
   "outputs": [],
   "source": [
    "data.classes"
   ]
  },
  {
   "cell_type": "code",
   "execution_count": null,
   "metadata": {},
   "outputs": [],
   "source": [
    "data.test_ds.fnames"
   ]
  },
  {
   "cell_type": "code",
   "execution_count": null,
   "metadata": {},
   "outputs": [],
   "source": [
    "log_preds, y = learn.TTA(is_test=True) # use test dataset rather than validation dataset\n",
    "probs = np.mean(np.exp(log_preds),0)\n",
    "#accuracy_np(probs, y), metrcs.log_loss(y, probs) # This does not make sense since test dataset has no labels"
   ]
  },
  {
   "cell_type": "code",
   "execution_count": null,
   "metadata": {},
   "outputs": [],
   "source": [
    "probs.shape # (n_images, n_classes)"
   ]
  },
  {
   "cell_type": "code",
   "execution_count": null,
   "metadata": {},
   "outputs": [],
   "source": [
    "df = pd.DataFrame(probs)\n",
    "df.columns = data.classes"
   ]
  },
  {
   "cell_type": "code",
   "execution_count": null,
   "metadata": {},
   "outputs": [],
   "source": [
    "df.insert(0, 'id', [o[5:-4] for o in data.test_ds.fnames])"
   ]
  },
  {
   "cell_type": "code",
   "execution_count": null,
   "metadata": {},
   "outputs": [],
   "source": [
    "df.head()"
   ]
  },
  {
   "cell_type": "code",
   "execution_count": null,
   "metadata": {},
   "outputs": [],
   "source": [
    "SUBM = f'{PATH}/subm/'\n",
    "os.makedirs(SUBM, exist_ok=True)\n",
    "df.to_csv(f'{SUBM}subm.gz', compression='gzip', index=False)"
   ]
  },
  {
   "cell_type": "code",
   "execution_count": null,
   "metadata": {},
   "outputs": [],
   "source": [
    "FileLink(f'{SUBM}subm.gz')"
   ]
  },
  {
   "cell_type": "markdown",
   "metadata": {},
   "source": [
    "## Individual prediction"
   ]
  },
  {
   "cell_type": "code",
   "execution_count": null,
   "metadata": {},
   "outputs": [],
   "source": [
    "fn = data.val_ds.fnames[0]\n",
    "fn"
   ]
  },
  {
   "cell_type": "code",
   "execution_count": null,
   "metadata": {},
   "outputs": [],
   "source": [
    "Image.open(PATH + fn).resize((150, 150))"
   ]
  },
  {
   "cell_type": "code",
   "execution_count": null,
   "metadata": {},
   "outputs": [],
   "source": [
    "# Method 1.\n",
    "trn_tfms, val_tfms = tfms_from_model(arch, sz)\n",
    "ds = FilesIndexArrayDataset([fn], np.array([0]), val_tfms, PATH)\n",
    "dl = DataLoader(ds)\n",
    "preds = learn.predict_dl(dl)\n",
    "np.argmax(preds)"
   ]
  },
  {
   "cell_type": "code",
   "execution_count": null,
   "metadata": {},
   "outputs": [],
   "source": [
    "learn.data.classes[np.argmax(preds)]"
   ]
  },
  {
   "cell_type": "code",
   "execution_count": null,
   "metadata": {},
   "outputs": [],
   "source": [
    "# Method 2.\n",
    "trn_tfms, val_tfms = tfms_from_model(arch, sz)\n",
    "im = val_tfms(open_image(PATH + fn)) # open_image() returns numpy.ndarray\n",
    "preds = learn.predict_array(im[None])\n",
    "np.argmax(preds)"
   ]
  }
 ],
 "metadata": {
  "kernelspec": {
   "display_name": "Python 3",
   "language": "python",
   "name": "python3"
  },
  "language_info": {
   "codemirror_mode": {
    "name": "ipython",
    "version": 3
   },
   "file_extension": ".py",
   "mimetype": "text/x-python",
   "name": "python",
   "nbconvert_exporter": "python",
   "pygments_lexer": "ipython3",
   "version": "3.6.6"
  }
 },
 "nbformat": 4,
 "nbformat_minor": 2
}
