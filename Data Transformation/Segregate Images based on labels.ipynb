{
 "cells": [
  {
   "cell_type": "code",
   "execution_count": 47,
   "metadata": {},
   "outputs": [],
   "source": [
    "import os\n",
    "import pandas as pd\n",
    "from shutil import copyfile,copy"
   ]
  },
  {
   "cell_type": "code",
   "execution_count": 2,
   "metadata": {},
   "outputs": [],
   "source": [
    "### Reading the input file"
   ]
  },
  {
   "cell_type": "code",
   "execution_count": 48,
   "metadata": {},
   "outputs": [],
   "source": [
    "labels_file_name = 'Major_Graphics_labels.csv'\n",
    "column = 'Major_Graphics'\n",
    "\n",
    "labels_file = pd.read_csv(labels_file_name)"
   ]
  },
  {
   "cell_type": "code",
   "execution_count": 49,
   "metadata": {},
   "outputs": [],
   "source": [
    "### Reading the images folder\n",
    "\n",
    "images_folder = 'C:/Users/arvra/Documents/UVa files/Research Assistantship/Final data Analysis/'\n",
    "images_output = 'C:/Users/arvra/Documents/UVa files/Research Assistantship/Final data Temp/'\n",
    "os.rmdir(images_output)\n",
    "\n",
    "image_files = os.listdir(images_folder)"
   ]
  },
  {
   "cell_type": "code",
   "execution_count": 58,
   "metadata": {},
   "outputs": [],
   "source": [
    "label_info = []\n",
    "label_all = []\n",
    "for image in image_files:\n",
    "    \n",
    "    image_no = image.split(\".\")[0]\n",
    "    label_value = list(labels_file[labels_file.Image_index.isin([image_no])][column].values)\n",
    "    \n",
    "    label_all.append(image)\n",
    "    label_info.extend(label_value)\n",
    "    \n",
    "    if(len(label_value)>0):\n",
    "        \n",
    "        directory_out = images_output+str(label_value[0])\n",
    "        \n",
    "        if not os.path.exists(directory_out):\n",
    "            os.makedirs(directory_out)\n",
    "        \n",
    "        copyfile(images_folder+image, directory_out+\"/\"+image)"
   ]
  },
  {
   "cell_type": "code",
   "execution_count": null,
   "metadata": {},
   "outputs": [],
   "source": []
  }
 ],
 "metadata": {
  "kernelspec": {
   "display_name": "Python 3",
   "language": "python",
   "name": "python3"
  },
  "language_info": {
   "codemirror_mode": {
    "name": "ipython",
    "version": 3
   },
   "file_extension": ".py",
   "mimetype": "text/x-python",
   "name": "python",
   "nbconvert_exporter": "python",
   "pygments_lexer": "ipython3",
   "version": "3.6.4"
  }
 },
 "nbformat": 4,
 "nbformat_minor": 2
}
