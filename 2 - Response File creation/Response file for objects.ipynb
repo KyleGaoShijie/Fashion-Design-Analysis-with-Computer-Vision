{
 "cells": [
  {
   "cell_type": "code",
   "execution_count": 1,
   "metadata": {},
   "outputs": [],
   "source": [
    "import pandas as pd"
   ]
  },
  {
   "cell_type": "code",
   "execution_count": 2,
   "metadata": {},
   "outputs": [],
   "source": [
    "categories = pd.read_excel('Object Keyword grouping.xlsx',sheet_name = 'Organized - Final')"
   ]
  },
  {
   "cell_type": "markdown",
   "metadata": {},
   "source": [
    "#### Others"
   ]
  },
  {
   "cell_type": "code",
   "execution_count": 4,
   "metadata": {},
   "outputs": [],
   "source": [
    "others_category = categories.iloc[:,0]"
   ]
  },
  {
   "cell_type": "code",
   "execution_count": 5,
   "metadata": {},
   "outputs": [],
   "source": [
    "others_mapping = pd.DataFrame({'Mapping':'Others' ,'Object':others_category[~others_category.isna()]})"
   ]
  },
  {
   "cell_type": "markdown",
   "metadata": {},
   "source": [
    "#### Main Categories"
   ]
  },
  {
   "cell_type": "code",
   "execution_count": 7,
   "metadata": {},
   "outputs": [],
   "source": [
    "all_categories = categories.iloc[:,4:].melt()"
   ]
  },
  {
   "cell_type": "code",
   "execution_count": 8,
   "metadata": {},
   "outputs": [],
   "source": [
    "all_categories = all_categories[~all_categories.value.isna()]\n",
    "\n",
    "to_be_removed = all_categories.variable[all_categories.variable.str.startswith('Count')].unique()\n",
    "\n",
    "all_categories_map = all_categories[~all_categories.variable.isin(to_be_removed)]\n",
    "all_categories_map.reset_index(inplace = True, drop = True)\n",
    "\n",
    "all_categories_map.columns = ['Mapping','Object']"
   ]
  },
  {
   "cell_type": "code",
   "execution_count": 9,
   "metadata": {},
   "outputs": [],
   "source": [
    "mapping_file = pd.concat([others_mapping,all_categories_map],axis = 0)"
   ]
  },
  {
   "cell_type": "markdown",
   "metadata": {},
   "source": [
    "#### Reading the actual objects in chinese and english"
   ]
  },
  {
   "cell_type": "code",
   "execution_count": 37,
   "metadata": {},
   "outputs": [],
   "source": [
    "with open('Translation_all.txt','r',encoding ='utf-8') as f:\n",
    "    translation =f.readlines()\n",
    "    \n",
    "translation = [each.strip() for each in translation]"
   ]
  },
  {
   "cell_type": "code",
   "execution_count": 103,
   "metadata": {},
   "outputs": [],
   "source": [
    "with open('words_all.txt','r',encoding ='utf-8') as f:\n",
    "    chinese =f.readlines()\n",
    "chinese = [each.strip() for each in chinese]"
   ]
  },
  {
   "cell_type": "code",
   "execution_count": 104,
   "metadata": {},
   "outputs": [],
   "source": [
    "chinese_eng = pd.DataFrame({'Chinese':chinese,'Translation':translation})"
   ]
  },
  {
   "cell_type": "code",
   "execution_count": 105,
   "metadata": {},
   "outputs": [
    {
     "data": {
      "text/plain": [
       "(4492, 2)"
      ]
     },
     "execution_count": 105,
     "metadata": {},
     "output_type": "execute_result"
    }
   ],
   "source": [
    "chinese_eng.shape"
   ]
  },
  {
   "cell_type": "code",
   "execution_count": 106,
   "metadata": {},
   "outputs": [],
   "source": [
    "mapping_file['Obj_clean'] = mapping_file.Object.str.lower().str.replace(' ','')\n",
    "chinese_eng['Translation_clean'] = chinese_eng.Translation.str.lower().str.replace(' ','')"
   ]
  },
  {
   "cell_type": "code",
   "execution_count": 107,
   "metadata": {},
   "outputs": [],
   "source": [
    "object_map_merge = pd.merge(chinese_eng,mapping_file,how = 'left',left_on = 'Translation_clean',right_on='Obj_clean')"
   ]
  },
  {
   "cell_type": "code",
   "execution_count": 108,
   "metadata": {},
   "outputs": [],
   "source": [
    "object_map_merge.Mapping = object_map_merge.Mapping.fillna('Others').str.replace(' ','_')"
   ]
  },
  {
   "cell_type": "code",
   "execution_count": 109,
   "metadata": {},
   "outputs": [],
   "source": [
    "object_final_map = object_map_merge.loc[:,['Chinese','Mapping']]"
   ]
  },
  {
   "cell_type": "code",
   "execution_count": 111,
   "metadata": {},
   "outputs": [],
   "source": [
    "mapping_dict = pd.Series(object_final_map.Mapping.values,object_final_map.Chinese).to_dict()"
   ]
  },
  {
   "cell_type": "code",
   "execution_count": 122,
   "metadata": {},
   "outputs": [
    {
     "data": {
      "text/html": [
       "<div>\n",
       "<style scoped>\n",
       "    .dataframe tbody tr th:only-of-type {\n",
       "        vertical-align: middle;\n",
       "    }\n",
       "\n",
       "    .dataframe tbody tr th {\n",
       "        vertical-align: top;\n",
       "    }\n",
       "\n",
       "    .dataframe thead th {\n",
       "        text-align: right;\n",
       "    }\n",
       "</style>\n",
       "<table border=\"1\" class=\"dataframe\">\n",
       "  <thead>\n",
       "    <tr style=\"text-align: right;\">\n",
       "      <th></th>\n",
       "      <th>Chinese</th>\n",
       "      <th>Translation</th>\n",
       "      <th>Translation_clean</th>\n",
       "    </tr>\n",
       "  </thead>\n",
       "  <tbody>\n",
       "    <tr>\n",
       "      <th>0</th>\n",
       "      <td>0</td>\n",
       "      <td>0</td>\n",
       "      <td>0</td>\n",
       "    </tr>\n",
       "    <tr>\n",
       "      <th>1</th>\n",
       "      <td>\"\"</td>\n",
       "      <td>\"\"</td>\n",
       "      <td>\"\"</td>\n",
       "    </tr>\n",
       "    <tr>\n",
       "      <th>2</th>\n",
       "      <td>老虎头</td>\n",
       "      <td>Tiger head</td>\n",
       "      <td>tigerhead</td>\n",
       "    </tr>\n",
       "    <tr>\n",
       "      <th>3</th>\n",
       "      <td>背景词</td>\n",
       "      <td>Background word</td>\n",
       "      <td>backgroundword</td>\n",
       "    </tr>\n",
       "    <tr>\n",
       "      <th>4</th>\n",
       "      <td>白菜</td>\n",
       "      <td>Chinese cabbage</td>\n",
       "      <td>chinesecabbage</td>\n",
       "    </tr>\n",
       "  </tbody>\n",
       "</table>\n",
       "</div>"
      ],
      "text/plain": [
       "  Chinese      Translation Translation_clean\n",
       "0       0                0                 0\n",
       "1      \"\"               \"\"                \"\"\n",
       "2     老虎头       Tiger head         tigerhead\n",
       "3     背景词  Background word    backgroundword\n",
       "4      白菜  Chinese cabbage    chinesecabbage"
      ]
     },
     "execution_count": 122,
     "metadata": {},
     "output_type": "execute_result"
    }
   ],
   "source": [
    "chinese_eng.head()"
   ]
  },
  {
   "cell_type": "code",
   "execution_count": 126,
   "metadata": {},
   "outputs": [],
   "source": [
    "mapping_dict_english_chinese =  pd.Series(chinese_eng.Translation.values,chinese_eng.Chinese.values).to_dict()"
   ]
  },
  {
   "cell_type": "markdown",
   "metadata": {},
   "source": [
    "#### Reading the response file"
   ]
  },
  {
   "cell_type": "code",
   "execution_count": 132,
   "metadata": {},
   "outputs": [],
   "source": [
    "alldata = pd.read_excel(\"AllData.xlsx\")"
   ]
  },
  {
   "cell_type": "code",
   "execution_count": 135,
   "metadata": {},
   "outputs": [],
   "source": [
    "alldata['Obj_split'] = alldata['Objects'].str.split(\"，\")"
   ]
  },
  {
   "cell_type": "code",
   "execution_count": 136,
   "metadata": {},
   "outputs": [],
   "source": [
    "alldata.Obj_split = alldata.Obj_split.fillna('')"
   ]
  },
  {
   "cell_type": "code",
   "execution_count": 137,
   "metadata": {},
   "outputs": [],
   "source": [
    "mapping_dict['人鸟'] = 'Human bird'\n",
    "mapping_dict['水母人头'] = 'Jellyfish head'"
   ]
  },
  {
   "cell_type": "markdown",
   "metadata": {},
   "source": [
    "#### Converting all the chinese object names to english"
   ]
  },
  {
   "cell_type": "code",
   "execution_count": 138,
   "metadata": {},
   "outputs": [],
   "source": [
    "import string\n",
    "punct = string.punctuation\n",
    "punct = punct+'（？）'"
   ]
  },
  {
   "cell_type": "code",
   "execution_count": 139,
   "metadata": {},
   "outputs": [],
   "source": [
    "respone_obj_english = alldata.Obj_split.apply(lambda x:\n",
    "                             [mapping_dict_english_chinese[''.join([letter for letter in list(each) if \n",
    "                                                    not letter.isdigit() and letter != 'M' \n",
    "                                                    and  letter != ' ' and letter not in punct])] if\n",
    "                              \n",
    "                              ''.join([letter for letter in list(each) if \n",
    "                                                    not letter.isdigit() and letter != 'M' \n",
    "                                                    and  letter != ' ' and letter not in punct]) in mapping_dict_english_chinese.keys() else \n",
    "                                       'Others' \n",
    "                              \n",
    "                              for each in x])"
   ]
  },
  {
   "cell_type": "code",
   "execution_count": 140,
   "metadata": {},
   "outputs": [
    {
     "data": {
      "text/plain": [
       "(30003,)"
      ]
     },
     "execution_count": 140,
     "metadata": {},
     "output_type": "execute_result"
    }
   ],
   "source": [
    "respone_obj_english.shape"
   ]
  },
  {
   "cell_type": "code",
   "execution_count": 146,
   "metadata": {},
   "outputs": [],
   "source": [
    "alldata['Objects_english'] = respone_obj_english\n",
    "alldata_output = alldata.copy()"
   ]
  },
  {
   "cell_type": "code",
   "execution_count": 148,
   "metadata": {},
   "outputs": [],
   "source": [
    "alldata_output = alldata_output.drop(['Obj_split'],axis = 1)"
   ]
  },
  {
   "cell_type": "code",
   "execution_count": 151,
   "metadata": {},
   "outputs": [],
   "source": [
    "alldata_output.to_excel('AllData_clean.xlsx',index = False)"
   ]
  },
  {
   "cell_type": "markdown",
   "metadata": {},
   "source": [
    "### Grouping objects"
   ]
  },
  {
   "cell_type": "code",
   "execution_count": 74,
   "metadata": {},
   "outputs": [],
   "source": [
    "respone_obj = alldata.Obj_split.apply(lambda x:\n",
    "                             [mapping_dict[''.join([letter for letter in list(each) if \n",
    "                                                    not letter.isdigit() and letter != 'M' \n",
    "                                                    and  letter != ' ' and letter not in punct])] if\n",
    "                              \n",
    "                              ''.join([letter for letter in list(each) if \n",
    "                                                    not letter.isdigit() and letter != 'M' \n",
    "                                                    and  letter != ' ' and letter not in punct]) in mapping_dict.keys() else \n",
    "                                       'Others' \n",
    "                              \n",
    "                              for each in x])"
   ]
  },
  {
   "cell_type": "code",
   "execution_count": 79,
   "metadata": {},
   "outputs": [
    {
     "data": {
      "text/plain": [
       "1393"
      ]
     },
     "execution_count": 79,
     "metadata": {},
     "output_type": "execute_result"
    }
   ],
   "source": [
    "respone_obj.apply(lambda x: len([each for each in x if each == 'Others'])).sum()"
   ]
  },
  {
   "cell_type": "code",
   "execution_count": 80,
   "metadata": {},
   "outputs": [
    {
     "data": {
      "text/plain": [
       "15691"
      ]
     },
     "execution_count": 80,
     "metadata": {},
     "output_type": "execute_result"
    }
   ],
   "source": [
    "respone_obj.apply(lambda x: len([each for each in x if each != 'Others'])).sum()"
   ]
  },
  {
   "cell_type": "code",
   "execution_count": 93,
   "metadata": {},
   "outputs": [],
   "source": [
    "object_response = respone_obj.apply(lambda x: 'XXANDXX'.join(x)).str.replace(\",\",\"_\").str.replace(\"__\",\"_\").str.replace(\"XXANDXX\",\", \")"
   ]
  },
  {
   "cell_type": "code",
   "execution_count": 126,
   "metadata": {},
   "outputs": [],
   "source": [
    "object_response[object_response == ''] = 'Others'"
   ]
  },
  {
   "cell_type": "code",
   "execution_count": 127,
   "metadata": {},
   "outputs": [],
   "source": [
    "alldata['Object_respone'] = object_response"
   ]
  },
  {
   "cell_type": "code",
   "execution_count": 128,
   "metadata": {},
   "outputs": [],
   "source": [
    "alldata_final = alldata.loc[:,['图片编号','Object_respone']]"
   ]
  },
  {
   "cell_type": "code",
   "execution_count": 129,
   "metadata": {},
   "outputs": [],
   "source": [
    "alldata_final.columns = ['Image_index','Object_respone']"
   ]
  },
  {
   "cell_type": "code",
   "execution_count": 130,
   "metadata": {},
   "outputs": [],
   "source": [
    "#alldata_final.sort_values('Image_index')"
   ]
  },
  {
   "cell_type": "code",
   "execution_count": null,
   "metadata": {},
   "outputs": [],
   "source": []
  },
  {
   "cell_type": "code",
   "execution_count": 131,
   "metadata": {},
   "outputs": [],
   "source": [
    "alldata_final.to_csv('Object_Multilable.csv',index = False)"
   ]
  },
  {
   "cell_type": "code",
   "execution_count": null,
   "metadata": {},
   "outputs": [],
   "source": []
  }
 ],
 "metadata": {
  "kernelspec": {
   "display_name": "Python 3",
   "language": "python",
   "name": "python3"
  },
  "language_info": {
   "codemirror_mode": {
    "name": "ipython",
    "version": 3
   },
   "file_extension": ".py",
   "mimetype": "text/x-python",
   "name": "python",
   "nbconvert_exporter": "python",
   "pygments_lexer": "ipython3",
   "version": "3.6.4"
  }
 },
 "nbformat": 4,
 "nbformat_minor": 2
}
