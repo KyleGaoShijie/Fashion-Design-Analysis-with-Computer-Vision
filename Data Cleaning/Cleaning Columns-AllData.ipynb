{
 "cells": [
  {
   "cell_type": "code",
   "execution_count": 281,
   "metadata": {},
   "outputs": [],
   "source": [
    "import os\n",
    "import pandas as pd\n",
    "import numpy as np\n",
    "import re"
   ]
  },
  {
   "cell_type": "code",
   "execution_count": 180,
   "metadata": {},
   "outputs": [],
   "source": [
    "alldata = pd.read_excel(\"AllData.xlsx\")"
   ]
  },
  {
   "cell_type": "code",
   "execution_count": 20,
   "metadata": {},
   "outputs": [],
   "source": [
    "#alldata.head()"
   ]
  },
  {
   "cell_type": "markdown",
   "metadata": {},
   "source": [
    "### Cleaning column by column"
   ]
  },
  {
   "cell_type": "markdown",
   "metadata": {},
   "source": [
    "#### Column1 - Emotion"
   ]
  },
  {
   "cell_type": "code",
   "execution_count": 19,
   "metadata": {},
   "outputs": [
    {
     "data": {
      "text/plain": [
       "P          16920\n",
       "N          13055\n",
       "O              8\n",
       "L              7\n",
       "H              2\n",
       "什么图案都没有        1\n",
       "F              1\n",
       "A              1\n",
       "照片无法识别         1\n",
       "图片无法读取         1\n",
       "什么图都没有         1\n",
       "B              1\n",
       "C              1\n",
       "无图案            1\n",
       "Name: 情感\\nP=正面\\nM=负面, dtype: int64"
      ]
     },
     "execution_count": 19,
     "metadata": {},
     "output_type": "execute_result"
    }
   ],
   "source": [
    "cleaned_column = alldata.iloc[:,1].str.upper().str.strip().str.replace('PP','P').str.replace('M','N')\n",
    "cleaned_column.value_counts()"
   ]
  },
  {
   "cell_type": "code",
   "execution_count": 72,
   "metadata": {},
   "outputs": [
    {
     "name": "stdout",
     "output_type": "stream",
     "text": [
      "P    16920\n",
      "N    13055\n",
      "Name: 情感\\nP=正面\\nM=负面, dtype: int64\n"
     ]
    }
   ],
   "source": [
    "#Getting just P and N values\n",
    "cleaned_column[~cleaned_column.isin(['P','N'])] = None\n",
    "print(cleaned_column.value_counts())\n",
    "alldata.iloc[:,1] = cleaned_column"
   ]
  },
  {
   "cell_type": "code",
   "execution_count": 73,
   "metadata": {},
   "outputs": [
    {
     "data": {
      "text/plain": [
       "P    16920\n",
       "N    13055\n",
       "Name: 情感\\nP=正面\\nM=负面, dtype: int64"
      ]
     },
     "execution_count": 73,
     "metadata": {},
     "output_type": "execute_result"
    }
   ],
   "source": [
    "alldata.iloc[:,1].value_counts()"
   ]
  },
  {
   "cell_type": "markdown",
   "metadata": {},
   "source": [
    "#### Column2 - Emotional strength"
   ]
  },
  {
   "cell_type": "code",
   "execution_count": 101,
   "metadata": {},
   "outputs": [],
   "source": [
    "c2_clean = alldata.iloc[:,2].str.strip().str.upper().replace('LL','L').replace('MM','M')\n",
    "c2_clean[~c2_clean.isin(['L','M','H'])] = None\n",
    "alldata.iloc[:,2] = c2_clean"
   ]
  },
  {
   "cell_type": "markdown",
   "metadata": {},
   "source": [
    "#### Column3 - Concrete And Abstract"
   ]
  },
  {
   "cell_type": "code",
   "execution_count": 102,
   "metadata": {},
   "outputs": [],
   "source": [
    "c3_clean = alldata.iloc[:,3].str.strip().str.upper().replace('AA','A').replace(['M9','M1','MM'],'M').replace('CA','C')\n",
    "c3_clean[~c3_clean.isin(['C','A','M'])] = None\n",
    "alldata.iloc[:,3] = c3_clean"
   ]
  },
  {
   "cell_type": "markdown",
   "metadata": {},
   "source": [
    "#### Columns 4-7,9,10 - Color/Texture"
   ]
  },
  {
   "cell_type": "code",
   "execution_count": 311,
   "metadata": {},
   "outputs": [],
   "source": [
    "def clean_numeric_cols(alldata_column):\n",
    "    c3_clean = alldata_column.astype('str').str.strip()\n",
    "    c3_list = []\n",
    "    \n",
    "    for each in c3_clean:\n",
    "\n",
    "        #Replacing unwanted characters with what is required\n",
    "        each_string = each.replace('，',',').replace('O','0').replace('.',',')\n",
    "        each_string = re.sub('，|。',',',each_string)\n",
    "        each_string = re.sub('[A-Z]','',each_string)\n",
    "\n",
    "        set_values = list(set(each_string.split(',')))\n",
    "\n",
    "        #Number set to 20 so that we consider all the numbers between 1-20\n",
    "        set_values = [each for each in set_values if each in list(map(str, range(25 + 1)))]\n",
    "\n",
    "        c3_list.append(','.join(set_values))\n",
    "        \n",
    "    return pd.DataFrame(c3_list).iloc[:,0]    "
   ]
  },
  {
   "cell_type": "code",
   "execution_count": 312,
   "metadata": {},
   "outputs": [],
   "source": [
    "alldata.iloc[:,[4,5,6,7,9,10]] = alldata.iloc[:,[4,5,6,7,9,10]].apply(clean_numeric_cols)"
   ]
  },
  {
   "cell_type": "markdown",
   "metadata": {},
   "source": [
    "#### Column 8 "
   ]
  },
  {
   "cell_type": "code",
   "execution_count": 310,
   "metadata": {},
   "outputs": [
    {
     "data": {
      "text/plain": [
       "1         8350\n",
       "          5901\n",
       "5         4222\n",
       "2         3875\n",
       "4         3051\n",
       "3         1955\n",
       "6          956\n",
       "10         512\n",
       "9          373\n",
       "7          326\n",
       "11         166\n",
       "8          148\n",
       "18          41\n",
       "14          30\n",
       "16          14\n",
       "12          10\n",
       "13           8\n",
       "3,1          8\n",
       "2,3          7\n",
       "2,1          5\n",
       "4,1          4\n",
       "9,8          2\n",
       "3,9          2\n",
       "3,6          2\n",
       "15           2\n",
       "19           2\n",
       "9,11         2\n",
       "3,4          2\n",
       "2,9          1\n",
       "15,9,8       1\n",
       "4,9,10       1\n",
       "5,3,1        1\n",
       "3,9,10       1\n",
       "7,4          1\n",
       "18,2         1\n",
       "18,11        1\n",
       "7,6          1\n",
       "3,10         1\n",
       "9,10         1\n",
       "3,14         1\n",
       "10,1         1\n",
       "12,14        1\n",
       "1,13         1\n",
       "1,7,10       1\n",
       "2,10         1\n",
       "2,6          1\n",
       "7,1          1\n",
       "3,11         1\n",
       "11,1         1\n",
       "1,10         1\n",
       "6,1          1\n",
       "1,11         1\n",
       "2,4          1\n",
       "14,4         1\n",
       "18,3         1\n",
       "Name: 图案主体的整体几何形状, dtype: int64"
      ]
     },
     "execution_count": 310,
     "metadata": {},
     "output_type": "execute_result"
    }
   ],
   "source": [
    "alldata.iloc[:,10].value_counts()"
   ]
  },
  {
   "cell_type": "code",
   "execution_count": null,
   "metadata": {},
   "outputs": [],
   "source": []
  }
 ],
 "metadata": {
  "kernelspec": {
   "display_name": "Python 3",
   "language": "python",
   "name": "python3"
  },
  "language_info": {
   "codemirror_mode": {
    "name": "ipython",
    "version": 3
   },
   "file_extension": ".py",
   "mimetype": "text/x-python",
   "name": "python",
   "nbconvert_exporter": "python",
   "pygments_lexer": "ipython3",
   "version": "3.6.4"
  }
 },
 "nbformat": 4,
 "nbformat_minor": 2
}
