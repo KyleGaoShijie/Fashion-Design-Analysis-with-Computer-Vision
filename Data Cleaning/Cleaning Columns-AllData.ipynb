{
 "cells": [
  {
   "cell_type": "code",
   "execution_count": 2,
   "metadata": {},
   "outputs": [],
   "source": [
    "import os\n",
    "import pandas as pd\n",
    "import numpy as np\n",
    "import re"
   ]
  },
  {
   "cell_type": "code",
   "execution_count": 3,
   "metadata": {},
   "outputs": [],
   "source": [
    "alldata = pd.read_excel(\"AllData.xlsx\")"
   ]
  },
  {
   "cell_type": "code",
   "execution_count": 4,
   "metadata": {},
   "outputs": [],
   "source": [
    "#alldata.head()"
   ]
  },
  {
   "cell_type": "markdown",
   "metadata": {},
   "source": [
    "### Cleaning column by column"
   ]
  },
  {
   "cell_type": "markdown",
   "metadata": {},
   "source": [
    "#### Column1 - Emotion"
   ]
  },
  {
   "cell_type": "code",
   "execution_count": 5,
   "metadata": {},
   "outputs": [
    {
     "data": {
      "text/plain": [
       "P          16920\n",
       "N          13055\n",
       "O              8\n",
       "L              7\n",
       "H              2\n",
       "C              1\n",
       "A              1\n",
       "B              1\n",
       "无图案            1\n",
       "什么图都没有         1\n",
       "照片无法识别         1\n",
       "图片无法读取         1\n",
       "F              1\n",
       "什么图案都没有        1\n",
       "Name: 情感\\nP=正面\\nM=负面, dtype: int64"
      ]
     },
     "execution_count": 5,
     "metadata": {},
     "output_type": "execute_result"
    }
   ],
   "source": [
    "cleaned_column = alldata.iloc[:,1].str.upper().str.strip().str.replace('PP','P').str.replace('M','N')\n",
    "cleaned_column.value_counts()"
   ]
  },
  {
   "cell_type": "code",
   "execution_count": 6,
   "metadata": {},
   "outputs": [
    {
     "name": "stdout",
     "output_type": "stream",
     "text": [
      "P    16920\n",
      "N    13055\n",
      "Name: 情感\\nP=正面\\nM=负面, dtype: int64\n"
     ]
    }
   ],
   "source": [
    "#Getting just P and N values\n",
    "cleaned_column[~cleaned_column.isin(['P','N'])] = None\n",
    "print(cleaned_column.value_counts())\n",
    "alldata.iloc[:,1] = cleaned_column"
   ]
  },
  {
   "cell_type": "code",
   "execution_count": 7,
   "metadata": {},
   "outputs": [
    {
     "data": {
      "text/plain": [
       "P    16920\n",
       "N    13055\n",
       "Name: 情感\\nP=正面\\nM=负面, dtype: int64"
      ]
     },
     "execution_count": 7,
     "metadata": {},
     "output_type": "execute_result"
    }
   ],
   "source": [
    "alldata.iloc[:,1].value_counts()"
   ]
  },
  {
   "cell_type": "markdown",
   "metadata": {},
   "source": [
    "#### Column2 - Emotional strength"
   ]
  },
  {
   "cell_type": "code",
   "execution_count": 8,
   "metadata": {},
   "outputs": [],
   "source": [
    "c2_clean = alldata.iloc[:,2].str.strip().str.upper().replace('LL','L').replace('MM','M')\n",
    "c2_clean[~c2_clean.isin(['L','M','H'])] = None\n",
    "alldata.iloc[:,2] = c2_clean"
   ]
  },
  {
   "cell_type": "markdown",
   "metadata": {},
   "source": [
    "#### Column3 - Concrete And Abstract"
   ]
  },
  {
   "cell_type": "code",
   "execution_count": 9,
   "metadata": {},
   "outputs": [],
   "source": [
    "c3_clean = alldata.iloc[:,3].str.strip().str.upper().replace('AA','A').replace(['M9','M1','MM'],'M').replace('CA','C')\n",
    "c3_clean[~c3_clean.isin(['C','A','M'])] = None\n",
    "alldata.iloc[:,3] = c3_clean"
   ]
  },
  {
   "cell_type": "markdown",
   "metadata": {},
   "source": [
    "#### Columns 4-7,9,10 - Color/Texture"
   ]
  },
  {
   "cell_type": "code",
   "execution_count": 10,
   "metadata": {},
   "outputs": [],
   "source": [
    "def clean_numeric_cols(alldata_column):\n",
    "    c3_clean = alldata_column.astype('str').str.strip()\n",
    "    c3_list = []\n",
    "    \n",
    "    for each in c3_clean:\n",
    "\n",
    "        #Replacing unwanted characters with what is required\n",
    "        each_string = each.replace('，',',').replace('O','0').replace('.',',')\n",
    "        each_string = re.sub('，|。',',',each_string)\n",
    "        each_string = re.sub('[A-Z]','',each_string)\n",
    "\n",
    "        set_values = list(set(each_string.split(',')))\n",
    "\n",
    "        #Number set to 20 so that we consider all the numbers between 1-20\n",
    "        set_values = [each for each in set_values if each in list(map(str, range(25 + 1)))]\n",
    "\n",
    "        c3_list.append(','.join(set_values))\n",
    "        \n",
    "    return pd.DataFrame(c3_list).iloc[:,0]    "
   ]
  },
  {
   "cell_type": "code",
   "execution_count": 11,
   "metadata": {},
   "outputs": [],
   "source": [
    "alldata.iloc[:,[4,5,6,7,9,10]] = alldata.iloc[:,[4,5,6,7,9,10]].apply(clean_numeric_cols)"
   ]
  },
  {
   "cell_type": "markdown",
   "metadata": {},
   "source": [
    "#### Column 8 "
   ]
  },
  {
   "cell_type": "code",
   "execution_count": 16,
   "metadata": {},
   "outputs": [],
   "source": [
    "col8 = alldata.iloc[:,8].astype(str).str.strip().replace(['21','22',',2'],'2').replace('33','3').replace('7，1','1')\n",
    "col8[~col8.isin(['1','2','3'])] = None\n",
    "alldata.iloc[:,8] = col8"
   ]
  },
  {
   "cell_type": "code",
   "execution_count": 18,
   "metadata": {},
   "outputs": [
    {
     "data": {
      "text/plain": [
       "2    13086\n",
       "3    10788\n",
       "1     6077\n",
       "Name: 图案主体色彩对比白\\n1=weak\\n2=gradual\\n3=strong, dtype: int64"
      ]
     },
     "execution_count": 18,
     "metadata": {},
     "output_type": "execute_result"
    }
   ],
   "source": [
    "alldata.iloc[:,8].value_counts()"
   ]
  },
  {
   "cell_type": "markdown",
   "metadata": {},
   "source": [
    "#### Column 11 - Objects"
   ]
  },
  {
   "cell_type": "code",
   "execution_count": 27,
   "metadata": {},
   "outputs": [],
   "source": [
    "alldata.iloc[:,11] = alldata.iloc[:,11].str.replace('[0-9A-Z]','').replace('，',',')"
   ]
  },
  {
   "cell_type": "code",
   "execution_count": null,
   "metadata": {},
   "outputs": [],
   "source": []
  },
  {
   "cell_type": "markdown",
   "metadata": {},
   "source": [
    "#### To be done \n",
    "* 1) Converting the Object from chinese names to indian names 2\n",
    "* 2) Combining three labels for each design into one\n",
    "* 3) Creating one hot vectors for each of the lables\n"
   ]
  },
  {
   "cell_type": "code",
   "execution_count": null,
   "metadata": {},
   "outputs": [],
   "source": []
  }
 ],
 "metadata": {
  "kernelspec": {
   "display_name": "Python 3",
   "language": "python",
   "name": "python3"
  },
  "language_info": {
   "codemirror_mode": {
    "name": "ipython",
    "version": 3
   },
   "file_extension": ".py",
   "mimetype": "text/x-python",
   "name": "python",
   "nbconvert_exporter": "python",
   "pygments_lexer": "ipython3",
   "version": "3.6.4"
  }
 },
 "nbformat": 4,
 "nbformat_minor": 2
}
