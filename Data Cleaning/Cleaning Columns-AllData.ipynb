{
 "cells": [
  {
   "cell_type": "code",
   "execution_count": 1,
   "metadata": {},
   "outputs": [],
   "source": [
    "import os\n",
    "import pandas as pd\n",
    "import numpy as np\n",
    "import re"
   ]
  },
  {
   "cell_type": "code",
   "execution_count": 2,
   "metadata": {},
   "outputs": [],
   "source": [
    "alldata = pd.read_excel(\"AllData.xlsx\")"
   ]
  },
  {
   "cell_type": "markdown",
   "metadata": {},
   "source": [
    "### Cleaning column by column"
   ]
  },
  {
   "cell_type": "markdown",
   "metadata": {},
   "source": [
    "#### Column1 - Emotion"
   ]
  },
  {
   "cell_type": "code",
   "execution_count": 4,
   "metadata": {},
   "outputs": [
    {
     "data": {
      "text/plain": [
       "P          16920\n",
       "N          13055\n",
       "O              8\n",
       "L              7\n",
       "H              2\n",
       "A              1\n",
       "照片无法识别         1\n",
       "图片无法读取         1\n",
       "B              1\n",
       "C              1\n",
       "无图案            1\n",
       "什么图都没有         1\n",
       "什么图案都没有        1\n",
       "F              1\n",
       "Name: Emotion, dtype: int64"
      ]
     },
     "execution_count": 4,
     "metadata": {},
     "output_type": "execute_result"
    }
   ],
   "source": [
    "cleaned_column = alldata.iloc[:,1].str.upper().str.strip().str.replace('PP','P').str.replace('M','N')\n",
    "cleaned_column.value_counts()"
   ]
  },
  {
   "cell_type": "code",
   "execution_count": 5,
   "metadata": {},
   "outputs": [
    {
     "name": "stdout",
     "output_type": "stream",
     "text": [
      "P    16920\n",
      "N    13055\n",
      "Name: Emotion, dtype: int64\n"
     ]
    }
   ],
   "source": [
    "#Getting just P and N values\n",
    "cleaned_column[~cleaned_column.isin(['P','N'])] = None\n",
    "print(cleaned_column.value_counts())\n",
    "alldata.iloc[:,1] = cleaned_column"
   ]
  },
  {
   "cell_type": "code",
   "execution_count": 6,
   "metadata": {},
   "outputs": [
    {
     "data": {
      "text/plain": [
       "P    16920\n",
       "N    13055\n",
       "Name: Emotion, dtype: int64"
      ]
     },
     "execution_count": 6,
     "metadata": {},
     "output_type": "execute_result"
    }
   ],
   "source": [
    "alldata.iloc[:,1].value_counts()"
   ]
  },
  {
   "cell_type": "markdown",
   "metadata": {},
   "source": [
    "#### Column2 - Emotional strength"
   ]
  },
  {
   "cell_type": "code",
   "execution_count": 7,
   "metadata": {},
   "outputs": [],
   "source": [
    "c2_clean = alldata.iloc[:,2].str.strip().str.upper().replace('LL','L').replace('MM','M')\n",
    "c2_clean[~c2_clean.isin(['L','M','H'])] = None\n",
    "alldata.iloc[:,2] = c2_clean"
   ]
  },
  {
   "cell_type": "markdown",
   "metadata": {},
   "source": [
    "#### Column3 - Concrete And Abstract"
   ]
  },
  {
   "cell_type": "code",
   "execution_count": 8,
   "metadata": {},
   "outputs": [],
   "source": [
    "c3_clean = alldata.iloc[:,3].str.strip().str.upper().replace('AA','A').replace(['M9','M1','MM'],'M').replace('CA','C')\n",
    "c3_clean[~c3_clean.isin(['C','A','M'])] = None\n",
    "alldata.iloc[:,3] = c3_clean"
   ]
  },
  {
   "cell_type": "markdown",
   "metadata": {},
   "source": [
    "#### Columns 4-7,9,10 - Color/Texture"
   ]
  },
  {
   "cell_type": "code",
   "execution_count": 9,
   "metadata": {},
   "outputs": [],
   "source": [
    "def clean_numeric_cols(alldata_column):\n",
    "    c3_clean = alldata_column.astype('str').str.strip()\n",
    "    c3_list = []\n",
    "    \n",
    "    for each in c3_clean:\n",
    "\n",
    "        #Replacing unwanted characters with what is required\n",
    "        each_string = each.replace('，',',').replace('O','0').replace('.',',')\n",
    "        each_string = re.sub('，|。',',',each_string)\n",
    "        \n",
    "        #U - Undefined - This has been allocated the number 99\n",
    "        #So 99 means - undefined/not present\n",
    "        \n",
    "        #Changed '63' to '6,3' in Major_Background_color color manually by verifying tags of other images\n",
    "        each_string = re.sub('77','7',each_string)\n",
    "        each_string = re.sub('99','9',each_string)\n",
    "        each_string = re.sub('U','99',each_string)\n",
    "        each_string = re.sub('[A-Z]','',each_string)\n",
    "\n",
    "        set_values = list(set(each_string.split(',')))\n",
    "\n",
    "        #Number set to 20 so that we consider all the numbers between 1-20\n",
    "        set_values = [each for each in set_values if each in list(map(str, range(100 + 1)))]\n",
    "\n",
    "        c3_list.append(','.join(set_values))\n",
    "        \n",
    "    return pd.DataFrame(c3_list).iloc[:,0]    \n",
    "\n",
    "#change the U Category to Others"
   ]
  },
  {
   "cell_type": "code",
   "execution_count": 10,
   "metadata": {},
   "outputs": [],
   "source": [
    "alldata.iloc[:,[4,5,6,7,9,10]] = alldata.iloc[:,[4,5,6,7,9,10]].apply(clean_numeric_cols)"
   ]
  },
  {
   "cell_type": "markdown",
   "metadata": {},
   "source": [
    "#### Column 8 "
   ]
  },
  {
   "cell_type": "code",
   "execution_count": 11,
   "metadata": {},
   "outputs": [],
   "source": [
    "col8 = alldata.iloc[:,8].astype(str).str.strip().replace(['21','22',',2'],'2').replace('33','3').replace('7，1','1')\n",
    "col8[~col8.isin(['1','2','3'])] = None\n",
    "alldata.iloc[:,8] = col8"
   ]
  },
  {
   "cell_type": "code",
   "execution_count": 12,
   "metadata": {},
   "outputs": [
    {
     "data": {
      "text/plain": [
       "2    13086\n",
       "3    10788\n",
       "1     6077\n",
       "Name: Design_contrast_color, dtype: int64"
      ]
     },
     "execution_count": 12,
     "metadata": {},
     "output_type": "execute_result"
    }
   ],
   "source": [
    "alldata.iloc[:,8].value_counts()"
   ]
  },
  {
   "cell_type": "markdown",
   "metadata": {},
   "source": [
    "#### Column 11 - Objects"
   ]
  },
  {
   "cell_type": "code",
   "execution_count": 13,
   "metadata": {},
   "outputs": [],
   "source": [
    "alldata.iloc[:,11] = alldata.iloc[:,11].str.replace('[0-9A-Z]','').replace('，',',')"
   ]
  },
  {
   "cell_type": "code",
   "execution_count": 14,
   "metadata": {},
   "outputs": [],
   "source": [
    "#alldata.head()"
   ]
  },
  {
   "cell_type": "markdown",
   "metadata": {},
   "source": [
    "### One hot encoding - Creating the response variable for the data required for CNN\n",
    "\n",
    "##### Two major procedure done in this function\n",
    "\n",
    "* Aggregating three types of lables to one label\n",
    "* Creating one hot encoding for each of the lablel"
   ]
  },
  {
   "cell_type": "code",
   "execution_count": 15,
   "metadata": {},
   "outputs": [],
   "source": [
    "#Input the column name\n",
    "def final_one_hot(colname):\n",
    "    \n",
    "    #Selecting the position of the column and the main Index id\n",
    "    select_cols = np.where(alldata.columns == colname)[0][0]\n",
    "    colname_id = alldata.columns[0]\n",
    "    \n",
    "    #Selecting only the required column and dropping the rest\n",
    "    newdata = alldata.iloc[:,[0,select_cols]]\n",
    "    newdata.index = newdata.iloc[:,0]\n",
    "    newdata = newdata.drop(colname_id,axis = 1).iloc[:,0]\n",
    "\n",
    "    #Creating one observation for each of the records\n",
    "    df_one_hot = newdata.str.split(\",\", expand = True).stack().str.get_dummies().sum(level=0)\n",
    "    \n",
    "    #Making the values as one hot representation since we have values apart from 1 and 0\n",
    "    df_one_hot_max_value = df_one_hot.apply(lambda x: x == max(x), axis = 1).apply(lambda x: x*1)\n",
    "    df_one_hot_max_value.columns =  colname+ ' - ' + df_one_hot_max_value.columns\n",
    "    return(df_one_hot_max_value)"
   ]
  },
  {
   "cell_type": "code",
   "execution_count": 16,
   "metadata": {},
   "outputs": [
    {
     "data": {
      "text/plain": [
       "Index(['Index', 'Emotion', 'Emotional_strength', 'Theme',\n",
       "       'Background_color_all', 'Major_Background_color', 'Design_color_all',\n",
       "       'Major_Design_color', 'Design_contrast_color', 'Graphics',\n",
       "       'Major_Graphics', 'Objects'],\n",
       "      dtype='object')"
      ]
     },
     "execution_count": 16,
     "metadata": {},
     "output_type": "execute_result"
    }
   ],
   "source": [
    "alldata.columns"
   ]
  },
  {
   "cell_type": "code",
   "execution_count": 17,
   "metadata": {},
   "outputs": [],
   "source": [
    "one_hot_output = final_one_hot('Major_Background_color')"
   ]
  },
  {
   "cell_type": "code",
   "execution_count": 18,
   "metadata": {},
   "outputs": [],
   "source": [
    "one_hot_output.to_csv('Major_Background_one_hot.csv')"
   ]
  },
  {
   "cell_type": "markdown",
   "metadata": {},
   "source": [
    "#### Questions to answer\n",
    "\n",
    "1) There are columns like 'Major Background color' which should have only one lable for an ID. But, there are around ~500 cases for the major background color where we see each of the label for a particular index is different. So, we end up with ~3 labels for each index for those cases\n",
    "    * So, do we have all three of them or select one?"
   ]
  },
  {
   "cell_type": "code",
   "execution_count": null,
   "metadata": {},
   "outputs": [],
   "source": []
  }
 ],
 "metadata": {
  "kernelspec": {
   "display_name": "Python 3",
   "language": "python",
   "name": "python3"
  },
  "language_info": {
   "codemirror_mode": {
    "name": "ipython",
    "version": 3
   },
   "file_extension": ".py",
   "mimetype": "text/x-python",
   "name": "python",
   "nbconvert_exporter": "python",
   "pygments_lexer": "ipython3",
   "version": "3.6.4"
  }
 },
 "nbformat": 4,
 "nbformat_minor": 2
}
